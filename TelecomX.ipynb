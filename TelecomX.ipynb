{
 "cells": [
  {
   "cell_type": "markdown",
   "id": "bb94260f",
   "metadata": {},
   "source": [
    "### Telecom X - Análise de Evasão de Clientes.\n",
    "##### A empresa enfrenta um alto índice de cancelamentos e precisa entender os fatores que levam à perda de clientes.  \n",
    "##### Neste projeto, realizamos a extração, tratamento e carga dos dados (ETL), além de uma análise exploratória para identificar \n",
    "##### padrões e perfis associados à evasão.  \n",
    "\n",
    "##### O objetivo do projeto é oferecer **insights acionáveis** que ajudem a empresa a reduzir o churn e fidelizar sua base de clientes."
   ]
  },
  {
   "cell_type": "code",
   "execution_count": 1,
   "id": "d90a7f6a",
   "metadata": {},
   "outputs": [],
   "source": [
    "import pandas as pd\n",
    "import numpy as np\n",
    "import matplotlib.pyplot as plt\n",
    "import seaborn as sns"
   ]
  },
  {
   "cell_type": "markdown",
   "id": "730f7776",
   "metadata": {},
   "source": [
    "#### Extração e Normalização dos Dados\n",
    "\n",
    "##### Os dados foram fornecidos no formato JSON com estrutura aninhada. Algumas colunas, como `customer`, `account`, `internet`, entre outras, continham subcampos em formato de dicionário.\n",
    "\n",
    "##### Para facilitar a análise, se fez necessária a **normalização** desses campos, transformando-os em colunas planas utilizando `pd.json_normalize()`. Isso nos permitiu acessar diretamente atributos como `customer_Tenure`, `account_Contract`, `internet_OnlineSecurity`, entre outros.\n",
    "\n",
    "#### Exemplo de transformação:\n",
    "##### antes: json {\"customer\": {'gender': 'Female', 'SeniorCitizen': 0,}}\n",
    "\n"
   ]
  },
  {
   "cell_type": "code",
   "execution_count": 2,
   "id": "d46552d6",
   "metadata": {},
   "outputs": [
    {
     "data": {
      "text/html": [
       "<div>\n",
       "<style scoped>\n",
       "    .dataframe tbody tr th:only-of-type {\n",
       "        vertical-align: middle;\n",
       "    }\n",
       "\n",
       "    .dataframe tbody tr th {\n",
       "        vertical-align: top;\n",
       "    }\n",
       "\n",
       "    .dataframe thead th {\n",
       "        text-align: right;\n",
       "    }\n",
       "</style>\n",
       "<table border=\"1\" class=\"dataframe\">\n",
       "  <thead>\n",
       "    <tr style=\"text-align: right;\">\n",
       "      <th></th>\n",
       "      <th>customerID</th>\n",
       "      <th>Churn</th>\n",
       "      <th>customer</th>\n",
       "      <th>phone</th>\n",
       "      <th>internet</th>\n",
       "      <th>account</th>\n",
       "    </tr>\n",
       "  </thead>\n",
       "  <tbody>\n",
       "    <tr>\n",
       "      <th>0</th>\n",
       "      <td>0002-ORFBO</td>\n",
       "      <td>No</td>\n",
       "      <td>{'gender': 'Female', 'SeniorCitizen': 0, 'Part...</td>\n",
       "      <td>{'PhoneService': 'Yes', 'MultipleLines': 'No'}</td>\n",
       "      <td>{'InternetService': 'DSL', 'OnlineSecurity': '...</td>\n",
       "      <td>{'Contract': 'One year', 'PaperlessBilling': '...</td>\n",
       "    </tr>\n",
       "    <tr>\n",
       "      <th>1</th>\n",
       "      <td>0003-MKNFE</td>\n",
       "      <td>No</td>\n",
       "      <td>{'gender': 'Male', 'SeniorCitizen': 0, 'Partne...</td>\n",
       "      <td>{'PhoneService': 'Yes', 'MultipleLines': 'Yes'}</td>\n",
       "      <td>{'InternetService': 'DSL', 'OnlineSecurity': '...</td>\n",
       "      <td>{'Contract': 'Month-to-month', 'PaperlessBilli...</td>\n",
       "    </tr>\n",
       "    <tr>\n",
       "      <th>2</th>\n",
       "      <td>0004-TLHLJ</td>\n",
       "      <td>Yes</td>\n",
       "      <td>{'gender': 'Male', 'SeniorCitizen': 0, 'Partne...</td>\n",
       "      <td>{'PhoneService': 'Yes', 'MultipleLines': 'No'}</td>\n",
       "      <td>{'InternetService': 'Fiber optic', 'OnlineSecu...</td>\n",
       "      <td>{'Contract': 'Month-to-month', 'PaperlessBilli...</td>\n",
       "    </tr>\n",
       "    <tr>\n",
       "      <th>3</th>\n",
       "      <td>0011-IGKFF</td>\n",
       "      <td>Yes</td>\n",
       "      <td>{'gender': 'Male', 'SeniorCitizen': 1, 'Partne...</td>\n",
       "      <td>{'PhoneService': 'Yes', 'MultipleLines': 'No'}</td>\n",
       "      <td>{'InternetService': 'Fiber optic', 'OnlineSecu...</td>\n",
       "      <td>{'Contract': 'Month-to-month', 'PaperlessBilli...</td>\n",
       "    </tr>\n",
       "    <tr>\n",
       "      <th>4</th>\n",
       "      <td>0013-EXCHZ</td>\n",
       "      <td>Yes</td>\n",
       "      <td>{'gender': 'Female', 'SeniorCitizen': 1, 'Part...</td>\n",
       "      <td>{'PhoneService': 'Yes', 'MultipleLines': 'No'}</td>\n",
       "      <td>{'InternetService': 'Fiber optic', 'OnlineSecu...</td>\n",
       "      <td>{'Contract': 'Month-to-month', 'PaperlessBilli...</td>\n",
       "    </tr>\n",
       "  </tbody>\n",
       "</table>\n",
       "</div>"
      ],
      "text/plain": [
       "   customerID Churn                                           customer  \\\n",
       "0  0002-ORFBO    No  {'gender': 'Female', 'SeniorCitizen': 0, 'Part...   \n",
       "1  0003-MKNFE    No  {'gender': 'Male', 'SeniorCitizen': 0, 'Partne...   \n",
       "2  0004-TLHLJ   Yes  {'gender': 'Male', 'SeniorCitizen': 0, 'Partne...   \n",
       "3  0011-IGKFF   Yes  {'gender': 'Male', 'SeniorCitizen': 1, 'Partne...   \n",
       "4  0013-EXCHZ   Yes  {'gender': 'Female', 'SeniorCitizen': 1, 'Part...   \n",
       "\n",
       "                                             phone  \\\n",
       "0   {'PhoneService': 'Yes', 'MultipleLines': 'No'}   \n",
       "1  {'PhoneService': 'Yes', 'MultipleLines': 'Yes'}   \n",
       "2   {'PhoneService': 'Yes', 'MultipleLines': 'No'}   \n",
       "3   {'PhoneService': 'Yes', 'MultipleLines': 'No'}   \n",
       "4   {'PhoneService': 'Yes', 'MultipleLines': 'No'}   \n",
       "\n",
       "                                            internet  \\\n",
       "0  {'InternetService': 'DSL', 'OnlineSecurity': '...   \n",
       "1  {'InternetService': 'DSL', 'OnlineSecurity': '...   \n",
       "2  {'InternetService': 'Fiber optic', 'OnlineSecu...   \n",
       "3  {'InternetService': 'Fiber optic', 'OnlineSecu...   \n",
       "4  {'InternetService': 'Fiber optic', 'OnlineSecu...   \n",
       "\n",
       "                                             account  \n",
       "0  {'Contract': 'One year', 'PaperlessBilling': '...  \n",
       "1  {'Contract': 'Month-to-month', 'PaperlessBilli...  \n",
       "2  {'Contract': 'Month-to-month', 'PaperlessBilli...  \n",
       "3  {'Contract': 'Month-to-month', 'PaperlessBilli...  \n",
       "4  {'Contract': 'Month-to-month', 'PaperlessBilli...  "
      ]
     },
     "execution_count": 2,
     "metadata": {},
     "output_type": "execute_result"
    }
   ],
   "source": [
    "url = 'https://raw.githubusercontent.com/ingridcristh/challenge2-data-science/refs/heads/main/TelecomX_Data.json'\n",
    "\n",
    "df = pd.read_json(url)\n",
    "\n",
    "df.head()"
   ]
  },
  {
   "cell_type": "code",
   "execution_count": 3,
   "id": "f5f6e3fb",
   "metadata": {},
   "outputs": [
    {
     "data": {
      "text/html": [
       "<div>\n",
       "<style scoped>\n",
       "    .dataframe tbody tr th:only-of-type {\n",
       "        vertical-align: middle;\n",
       "    }\n",
       "\n",
       "    .dataframe tbody tr th {\n",
       "        vertical-align: top;\n",
       "    }\n",
       "\n",
       "    .dataframe thead th {\n",
       "        text-align: right;\n",
       "    }\n",
       "</style>\n",
       "<table border=\"1\" class=\"dataframe\">\n",
       "  <thead>\n",
       "    <tr style=\"text-align: right;\">\n",
       "      <th></th>\n",
       "      <th>customerID</th>\n",
       "      <th>Churn</th>\n",
       "      <th>customer_gender</th>\n",
       "      <th>customer_SeniorCitizen</th>\n",
       "      <th>customer_Partner</th>\n",
       "      <th>customer_Dependents</th>\n",
       "      <th>customer_tenure</th>\n",
       "      <th>phone_PhoneService</th>\n",
       "      <th>phone_MultipleLines</th>\n",
       "      <th>internet_InternetService</th>\n",
       "      <th>...</th>\n",
       "      <th>internet_OnlineBackup</th>\n",
       "      <th>internet_DeviceProtection</th>\n",
       "      <th>internet_TechSupport</th>\n",
       "      <th>internet_StreamingTV</th>\n",
       "      <th>internet_StreamingMovies</th>\n",
       "      <th>account_Contract</th>\n",
       "      <th>account_PaperlessBilling</th>\n",
       "      <th>account_PaymentMethod</th>\n",
       "      <th>account_Charges.Monthly</th>\n",
       "      <th>account_Charges.Total</th>\n",
       "    </tr>\n",
       "  </thead>\n",
       "  <tbody>\n",
       "    <tr>\n",
       "      <th>0</th>\n",
       "      <td>0002-ORFBO</td>\n",
       "      <td>No</td>\n",
       "      <td>Female</td>\n",
       "      <td>0</td>\n",
       "      <td>Yes</td>\n",
       "      <td>Yes</td>\n",
       "      <td>9</td>\n",
       "      <td>Yes</td>\n",
       "      <td>No</td>\n",
       "      <td>DSL</td>\n",
       "      <td>...</td>\n",
       "      <td>Yes</td>\n",
       "      <td>No</td>\n",
       "      <td>Yes</td>\n",
       "      <td>Yes</td>\n",
       "      <td>No</td>\n",
       "      <td>One year</td>\n",
       "      <td>Yes</td>\n",
       "      <td>Mailed check</td>\n",
       "      <td>65.6</td>\n",
       "      <td>593.3</td>\n",
       "    </tr>\n",
       "    <tr>\n",
       "      <th>1</th>\n",
       "      <td>0003-MKNFE</td>\n",
       "      <td>No</td>\n",
       "      <td>Male</td>\n",
       "      <td>0</td>\n",
       "      <td>No</td>\n",
       "      <td>No</td>\n",
       "      <td>9</td>\n",
       "      <td>Yes</td>\n",
       "      <td>Yes</td>\n",
       "      <td>DSL</td>\n",
       "      <td>...</td>\n",
       "      <td>No</td>\n",
       "      <td>No</td>\n",
       "      <td>No</td>\n",
       "      <td>No</td>\n",
       "      <td>Yes</td>\n",
       "      <td>Month-to-month</td>\n",
       "      <td>No</td>\n",
       "      <td>Mailed check</td>\n",
       "      <td>59.9</td>\n",
       "      <td>542.4</td>\n",
       "    </tr>\n",
       "    <tr>\n",
       "      <th>2</th>\n",
       "      <td>0004-TLHLJ</td>\n",
       "      <td>Yes</td>\n",
       "      <td>Male</td>\n",
       "      <td>0</td>\n",
       "      <td>No</td>\n",
       "      <td>No</td>\n",
       "      <td>4</td>\n",
       "      <td>Yes</td>\n",
       "      <td>No</td>\n",
       "      <td>Fiber optic</td>\n",
       "      <td>...</td>\n",
       "      <td>No</td>\n",
       "      <td>Yes</td>\n",
       "      <td>No</td>\n",
       "      <td>No</td>\n",
       "      <td>No</td>\n",
       "      <td>Month-to-month</td>\n",
       "      <td>Yes</td>\n",
       "      <td>Electronic check</td>\n",
       "      <td>73.9</td>\n",
       "      <td>280.85</td>\n",
       "    </tr>\n",
       "    <tr>\n",
       "      <th>3</th>\n",
       "      <td>0011-IGKFF</td>\n",
       "      <td>Yes</td>\n",
       "      <td>Male</td>\n",
       "      <td>1</td>\n",
       "      <td>Yes</td>\n",
       "      <td>No</td>\n",
       "      <td>13</td>\n",
       "      <td>Yes</td>\n",
       "      <td>No</td>\n",
       "      <td>Fiber optic</td>\n",
       "      <td>...</td>\n",
       "      <td>Yes</td>\n",
       "      <td>Yes</td>\n",
       "      <td>No</td>\n",
       "      <td>Yes</td>\n",
       "      <td>Yes</td>\n",
       "      <td>Month-to-month</td>\n",
       "      <td>Yes</td>\n",
       "      <td>Electronic check</td>\n",
       "      <td>98.0</td>\n",
       "      <td>1237.85</td>\n",
       "    </tr>\n",
       "    <tr>\n",
       "      <th>4</th>\n",
       "      <td>0013-EXCHZ</td>\n",
       "      <td>Yes</td>\n",
       "      <td>Female</td>\n",
       "      <td>1</td>\n",
       "      <td>Yes</td>\n",
       "      <td>No</td>\n",
       "      <td>3</td>\n",
       "      <td>Yes</td>\n",
       "      <td>No</td>\n",
       "      <td>Fiber optic</td>\n",
       "      <td>...</td>\n",
       "      <td>No</td>\n",
       "      <td>No</td>\n",
       "      <td>Yes</td>\n",
       "      <td>Yes</td>\n",
       "      <td>No</td>\n",
       "      <td>Month-to-month</td>\n",
       "      <td>Yes</td>\n",
       "      <td>Mailed check</td>\n",
       "      <td>83.9</td>\n",
       "      <td>267.4</td>\n",
       "    </tr>\n",
       "  </tbody>\n",
       "</table>\n",
       "<p>5 rows × 21 columns</p>\n",
       "</div>"
      ],
      "text/plain": [
       "   customerID Churn customer_gender  customer_SeniorCitizen customer_Partner  \\\n",
       "0  0002-ORFBO    No          Female                       0              Yes   \n",
       "1  0003-MKNFE    No            Male                       0               No   \n",
       "2  0004-TLHLJ   Yes            Male                       0               No   \n",
       "3  0011-IGKFF   Yes            Male                       1              Yes   \n",
       "4  0013-EXCHZ   Yes          Female                       1              Yes   \n",
       "\n",
       "  customer_Dependents  customer_tenure phone_PhoneService phone_MultipleLines  \\\n",
       "0                 Yes                9                Yes                  No   \n",
       "1                  No                9                Yes                 Yes   \n",
       "2                  No                4                Yes                  No   \n",
       "3                  No               13                Yes                  No   \n",
       "4                  No                3                Yes                  No   \n",
       "\n",
       "  internet_InternetService  ... internet_OnlineBackup  \\\n",
       "0                      DSL  ...                   Yes   \n",
       "1                      DSL  ...                    No   \n",
       "2              Fiber optic  ...                    No   \n",
       "3              Fiber optic  ...                   Yes   \n",
       "4              Fiber optic  ...                    No   \n",
       "\n",
       "  internet_DeviceProtection internet_TechSupport internet_StreamingTV  \\\n",
       "0                        No                  Yes                  Yes   \n",
       "1                        No                   No                   No   \n",
       "2                       Yes                   No                   No   \n",
       "3                       Yes                   No                  Yes   \n",
       "4                        No                  Yes                  Yes   \n",
       "\n",
       "  internet_StreamingMovies account_Contract account_PaperlessBilling  \\\n",
       "0                       No         One year                      Yes   \n",
       "1                      Yes   Month-to-month                       No   \n",
       "2                       No   Month-to-month                      Yes   \n",
       "3                      Yes   Month-to-month                      Yes   \n",
       "4                       No   Month-to-month                      Yes   \n",
       "\n",
       "  account_PaymentMethod account_Charges.Monthly  account_Charges.Total  \n",
       "0          Mailed check                    65.6                  593.3  \n",
       "1          Mailed check                    59.9                  542.4  \n",
       "2      Electronic check                    73.9                 280.85  \n",
       "3      Electronic check                    98.0                1237.85  \n",
       "4          Mailed check                    83.9                  267.4  \n",
       "\n",
       "[5 rows x 21 columns]"
      ]
     },
     "execution_count": 3,
     "metadata": {},
     "output_type": "execute_result"
    }
   ],
   "source": [
    "df = pd.concat([\n",
    "    df.drop(['customer', 'phone', 'internet', 'account'], axis=1), #excluir as colunas agrupadas\n",
    "    pd.json_normalize(df['customer']).add_prefix('customer_'),     #normalizar a coluna customer, mantendo o prefixo \"cutomer_\"\n",
    "    pd.json_normalize(df['phone']).add_prefix('phone_'),           #normalizar a coluna phone, mantendo o prefixo \"phone_\"\n",
    "    pd.json_normalize(df['internet']).add_prefix('internet_'),     #normalizar a coluna internet, mantendo o prefixo \"internet_\"\n",
    "    pd.json_normalize(df['account']).add_prefix('account_'),       #normalizar a coluna account, mantendo o prefixo \"account_\"\n",
    "], axis=1)\n",
    "\n",
    "df.head()"
   ]
  },
  {
   "cell_type": "code",
   "execution_count": 4,
   "id": "494c8720",
   "metadata": {},
   "outputs": [
    {
     "name": "stdout",
     "output_type": "stream",
     "text": [
      "<class 'pandas.core.frame.DataFrame'>\n",
      "RangeIndex: 7267 entries, 0 to 7266\n",
      "Data columns (total 21 columns):\n",
      " #   Column                     Non-Null Count  Dtype  \n",
      "---  ------                     --------------  -----  \n",
      " 0   customerID                 7267 non-null   object \n",
      " 1   Churn                      7267 non-null   object \n",
      " 2   customer_gender            7267 non-null   object \n",
      " 3   customer_SeniorCitizen     7267 non-null   int64  \n",
      " 4   customer_Partner           7267 non-null   object \n",
      " 5   customer_Dependents        7267 non-null   object \n",
      " 6   customer_tenure            7267 non-null   int64  \n",
      " 7   phone_PhoneService         7267 non-null   object \n",
      " 8   phone_MultipleLines        7267 non-null   object \n",
      " 9   internet_InternetService   7267 non-null   object \n",
      " 10  internet_OnlineSecurity    7267 non-null   object \n",
      " 11  internet_OnlineBackup      7267 non-null   object \n",
      " 12  internet_DeviceProtection  7267 non-null   object \n",
      " 13  internet_TechSupport       7267 non-null   object \n",
      " 14  internet_StreamingTV       7267 non-null   object \n",
      " 15  internet_StreamingMovies   7267 non-null   object \n",
      " 16  account_Contract           7267 non-null   object \n",
      " 17  account_PaperlessBilling   7267 non-null   object \n",
      " 18  account_PaymentMethod      7267 non-null   object \n",
      " 19  account_Charges.Monthly    7267 non-null   float64\n",
      " 20  account_Charges.Total      7267 non-null   object \n",
      "dtypes: float64(1), int64(2), object(18)\n",
      "memory usage: 1.2+ MB\n"
     ]
    }
   ],
   "source": [
    "df.info()"
   ]
  },
  {
   "cell_type": "markdown",
   "id": "6f22a6fe",
   "metadata": {},
   "source": [
    "#### Tratamento e seleção das variáveis relevantes\n",
    "\n",
    "##### Para a análise da evasão de clientes (churn), algumas colunas do DataFrame se mostram especialmente relevantes com base no contexto de negócio e em hipóteses iniciais:\n",
    "\n",
    "##### - **`Churn`** — Esta é a variável-alvo. É a partir dela que entenderemos quais perfis estão mais associados ao cancelamento do serviço.\n",
    "##### - **`customer_tenure`** — Representa o tempo de permanência do cliente. Permanências curtas costumam estar associadas a maior probabilidade de churn.\n",
    "##### - **`account_Contract`** — Clientes com contratos mensais tendem a ter maior risco de cancelamento, pois não estão fidelizados por longo prazo.\n",
    "##### - **`account_Charges.Monthly`** — Clientes com mensalidades mais altas podem ter expectativas maiores em relação ao serviço, o que pode influenciar sua decisão de cancelar.\n",
    "##### - **`account_Charges.Total`** — O valor total pago ao longo do tempo ajuda a identificar clientes antigos que mesmo assim decidem sair — isso pode indicar uma queda de satisfação ao longo do tempo.\n",
    "##### - **`internet_*` (todas as colunas)** — O tipo de serviço contratado (e serviços adicionais como segurança ou backup) afeta a percepção de valor. A ausência desses adicionais pode ser um sinal de risco.\n",
    "##### - **`account_PaymentMethod`** — Métodos de pagamento automáticos tendem a reduzir o churn, possivelmente por eliminar barreiras no processo de pagamento.\n",
    "##### - **`phone_PhoneService`** — A presença ou não de telefone fixo pode refletir diferentes perfis demográficos, como clientes mais jovens ou mais antigos.\n",
    "##### - **`customer_gender`** — Pode haver variações no churn entre homens e mulheres, mas a expectativa é de que não seja um fator preditivo forte. Ainda assim, será analisado."
   ]
  },
  {
   "cell_type": "markdown",
   "id": "400e63eb",
   "metadata": {},
   "source": [
    "#### Verificando se existem valores duplicados em `Customer ID`"
   ]
  },
  {
   "cell_type": "code",
   "execution_count": 5,
   "id": "a670f6f8",
   "metadata": {},
   "outputs": [
    {
     "data": {
      "text/plain": [
       "True"
      ]
     },
     "execution_count": 5,
     "metadata": {},
     "output_type": "execute_result"
    }
   ],
   "source": [
    "df['customerID'].is_unique"
   ]
  },
  {
   "cell_type": "markdown",
   "id": "cefaf89d",
   "metadata": {},
   "source": [
    "##### A existência de valores duplicados na coluna `customer_ID` poderia indicar registros repetidos para o mesmo cliente — algo que comprometeria a análise.\n",
    "\n",
    "##### Nenhuma duplicata foi encontrada, o que garante que cada linha representa um cliente único."
   ]
  },
  {
   "cell_type": "markdown",
   "id": "14f4b3a8",
   "metadata": {},
   "source": [
    "#### Checando a integridade de valores na coluna `Churn`"
   ]
  },
  {
   "cell_type": "code",
   "execution_count": 6,
   "id": "c81daf9f",
   "metadata": {},
   "outputs": [
    {
     "data": {
      "text/plain": [
       "224"
      ]
     },
     "execution_count": 6,
     "metadata": {},
     "output_type": "execute_result"
    }
   ],
   "source": [
    "(df['Churn'].str.strip() == '').sum() #descobrindo quantas linhas estão vazias."
   ]
  },
  {
   "cell_type": "code",
   "execution_count": 7,
   "id": "8d993499",
   "metadata": {},
   "outputs": [
    {
     "data": {
      "text/html": [
       "<div>\n",
       "<style scoped>\n",
       "    .dataframe tbody tr th:only-of-type {\n",
       "        vertical-align: middle;\n",
       "    }\n",
       "\n",
       "    .dataframe tbody tr th {\n",
       "        vertical-align: top;\n",
       "    }\n",
       "\n",
       "    .dataframe thead th {\n",
       "        text-align: right;\n",
       "    }\n",
       "</style>\n",
       "<table border=\"1\" class=\"dataframe\">\n",
       "  <thead>\n",
       "    <tr style=\"text-align: right;\">\n",
       "      <th></th>\n",
       "      <th>customerID</th>\n",
       "      <th>Churn</th>\n",
       "      <th>customer_gender</th>\n",
       "      <th>customer_SeniorCitizen</th>\n",
       "      <th>customer_Partner</th>\n",
       "      <th>customer_Dependents</th>\n",
       "      <th>customer_tenure</th>\n",
       "      <th>phone_PhoneService</th>\n",
       "      <th>phone_MultipleLines</th>\n",
       "      <th>internet_InternetService</th>\n",
       "      <th>...</th>\n",
       "      <th>internet_OnlineBackup</th>\n",
       "      <th>internet_DeviceProtection</th>\n",
       "      <th>internet_TechSupport</th>\n",
       "      <th>internet_StreamingTV</th>\n",
       "      <th>internet_StreamingMovies</th>\n",
       "      <th>account_Contract</th>\n",
       "      <th>account_PaperlessBilling</th>\n",
       "      <th>account_PaymentMethod</th>\n",
       "      <th>account_Charges.Monthly</th>\n",
       "      <th>account_Charges.Total</th>\n",
       "    </tr>\n",
       "  </thead>\n",
       "  <tbody>\n",
       "    <tr>\n",
       "      <th>30</th>\n",
       "      <td>0047-ZHDTW</td>\n",
       "      <td></td>\n",
       "      <td>Female</td>\n",
       "      <td>0</td>\n",
       "      <td>No</td>\n",
       "      <td>No</td>\n",
       "      <td>11</td>\n",
       "      <td>Yes</td>\n",
       "      <td>Yes</td>\n",
       "      <td>Fiber optic</td>\n",
       "      <td>...</td>\n",
       "      <td>No</td>\n",
       "      <td>No</td>\n",
       "      <td>No</td>\n",
       "      <td>No</td>\n",
       "      <td>No</td>\n",
       "      <td>Month-to-month</td>\n",
       "      <td>Yes</td>\n",
       "      <td>Bank transfer (automatic)</td>\n",
       "      <td>79.00</td>\n",
       "      <td>929.3</td>\n",
       "    </tr>\n",
       "    <tr>\n",
       "      <th>75</th>\n",
       "      <td>0120-YZLQA</td>\n",
       "      <td></td>\n",
       "      <td>Male</td>\n",
       "      <td>0</td>\n",
       "      <td>No</td>\n",
       "      <td>No</td>\n",
       "      <td>71</td>\n",
       "      <td>Yes</td>\n",
       "      <td>No</td>\n",
       "      <td>No</td>\n",
       "      <td>...</td>\n",
       "      <td>No internet service</td>\n",
       "      <td>No internet service</td>\n",
       "      <td>No internet service</td>\n",
       "      <td>No internet service</td>\n",
       "      <td>No internet service</td>\n",
       "      <td>Two year</td>\n",
       "      <td>Yes</td>\n",
       "      <td>Credit card (automatic)</td>\n",
       "      <td>19.90</td>\n",
       "      <td>1355.1</td>\n",
       "    </tr>\n",
       "    <tr>\n",
       "      <th>96</th>\n",
       "      <td>0154-QYHJU</td>\n",
       "      <td></td>\n",
       "      <td>Male</td>\n",
       "      <td>0</td>\n",
       "      <td>No</td>\n",
       "      <td>No</td>\n",
       "      <td>29</td>\n",
       "      <td>Yes</td>\n",
       "      <td>No</td>\n",
       "      <td>DSL</td>\n",
       "      <td>...</td>\n",
       "      <td>Yes</td>\n",
       "      <td>No</td>\n",
       "      <td>Yes</td>\n",
       "      <td>No</td>\n",
       "      <td>No</td>\n",
       "      <td>One year</td>\n",
       "      <td>Yes</td>\n",
       "      <td>Electronic check</td>\n",
       "      <td>58.75</td>\n",
       "      <td>1696.2</td>\n",
       "    </tr>\n",
       "    <tr>\n",
       "      <th>98</th>\n",
       "      <td>0162-RZGMZ</td>\n",
       "      <td></td>\n",
       "      <td>Female</td>\n",
       "      <td>1</td>\n",
       "      <td>No</td>\n",
       "      <td>No</td>\n",
       "      <td>5</td>\n",
       "      <td>Yes</td>\n",
       "      <td>No</td>\n",
       "      <td>DSL</td>\n",
       "      <td>...</td>\n",
       "      <td>Yes</td>\n",
       "      <td>No</td>\n",
       "      <td>Yes</td>\n",
       "      <td>No</td>\n",
       "      <td>No</td>\n",
       "      <td>Month-to-month</td>\n",
       "      <td>No</td>\n",
       "      <td>Credit card (automatic)</td>\n",
       "      <td>59.90</td>\n",
       "      <td>287.85</td>\n",
       "    </tr>\n",
       "    <tr>\n",
       "      <th>175</th>\n",
       "      <td>0274-VVQOQ</td>\n",
       "      <td></td>\n",
       "      <td>Male</td>\n",
       "      <td>1</td>\n",
       "      <td>Yes</td>\n",
       "      <td>No</td>\n",
       "      <td>65</td>\n",
       "      <td>Yes</td>\n",
       "      <td>Yes</td>\n",
       "      <td>Fiber optic</td>\n",
       "      <td>...</td>\n",
       "      <td>Yes</td>\n",
       "      <td>Yes</td>\n",
       "      <td>No</td>\n",
       "      <td>Yes</td>\n",
       "      <td>Yes</td>\n",
       "      <td>One year</td>\n",
       "      <td>Yes</td>\n",
       "      <td>Bank transfer (automatic)</td>\n",
       "      <td>103.15</td>\n",
       "      <td>6792.45</td>\n",
       "    </tr>\n",
       "    <tr>\n",
       "      <th>...</th>\n",
       "      <td>...</td>\n",
       "      <td>...</td>\n",
       "      <td>...</td>\n",
       "      <td>...</td>\n",
       "      <td>...</td>\n",
       "      <td>...</td>\n",
       "      <td>...</td>\n",
       "      <td>...</td>\n",
       "      <td>...</td>\n",
       "      <td>...</td>\n",
       "      <td>...</td>\n",
       "      <td>...</td>\n",
       "      <td>...</td>\n",
       "      <td>...</td>\n",
       "      <td>...</td>\n",
       "      <td>...</td>\n",
       "      <td>...</td>\n",
       "      <td>...</td>\n",
       "      <td>...</td>\n",
       "      <td>...</td>\n",
       "      <td>...</td>\n",
       "    </tr>\n",
       "    <tr>\n",
       "      <th>7158</th>\n",
       "      <td>9840-GSRFX</td>\n",
       "      <td></td>\n",
       "      <td>Female</td>\n",
       "      <td>0</td>\n",
       "      <td>No</td>\n",
       "      <td>No</td>\n",
       "      <td>14</td>\n",
       "      <td>Yes</td>\n",
       "      <td>Yes</td>\n",
       "      <td>DSL</td>\n",
       "      <td>...</td>\n",
       "      <td>Yes</td>\n",
       "      <td>No</td>\n",
       "      <td>No</td>\n",
       "      <td>No</td>\n",
       "      <td>No</td>\n",
       "      <td>One year</td>\n",
       "      <td>Yes</td>\n",
       "      <td>Mailed check</td>\n",
       "      <td>54.25</td>\n",
       "      <td>773.2</td>\n",
       "    </tr>\n",
       "    <tr>\n",
       "      <th>7180</th>\n",
       "      <td>9872-RZQQB</td>\n",
       "      <td></td>\n",
       "      <td>Female</td>\n",
       "      <td>0</td>\n",
       "      <td>Yes</td>\n",
       "      <td>No</td>\n",
       "      <td>49</td>\n",
       "      <td>No</td>\n",
       "      <td>No phone service</td>\n",
       "      <td>DSL</td>\n",
       "      <td>...</td>\n",
       "      <td>No</td>\n",
       "      <td>No</td>\n",
       "      <td>No</td>\n",
       "      <td>Yes</td>\n",
       "      <td>No</td>\n",
       "      <td>Month-to-month</td>\n",
       "      <td>No</td>\n",
       "      <td>Bank transfer (automatic)</td>\n",
       "      <td>40.65</td>\n",
       "      <td>2070.75</td>\n",
       "    </tr>\n",
       "    <tr>\n",
       "      <th>7211</th>\n",
       "      <td>9920-GNDMB</td>\n",
       "      <td></td>\n",
       "      <td>Male</td>\n",
       "      <td>0</td>\n",
       "      <td>No</td>\n",
       "      <td>No</td>\n",
       "      <td>9</td>\n",
       "      <td>Yes</td>\n",
       "      <td>Yes</td>\n",
       "      <td>Fiber optic</td>\n",
       "      <td>...</td>\n",
       "      <td>No</td>\n",
       "      <td>No</td>\n",
       "      <td>No</td>\n",
       "      <td>No</td>\n",
       "      <td>No</td>\n",
       "      <td>Month-to-month</td>\n",
       "      <td>Yes</td>\n",
       "      <td>Electronic check</td>\n",
       "      <td>76.25</td>\n",
       "      <td>684.85</td>\n",
       "    </tr>\n",
       "    <tr>\n",
       "      <th>7239</th>\n",
       "      <td>9955-RVWSC</td>\n",
       "      <td></td>\n",
       "      <td>Female</td>\n",
       "      <td>0</td>\n",
       "      <td>Yes</td>\n",
       "      <td>Yes</td>\n",
       "      <td>67</td>\n",
       "      <td>Yes</td>\n",
       "      <td>No</td>\n",
       "      <td>No</td>\n",
       "      <td>...</td>\n",
       "      <td>No internet service</td>\n",
       "      <td>No internet service</td>\n",
       "      <td>No internet service</td>\n",
       "      <td>No internet service</td>\n",
       "      <td>No internet service</td>\n",
       "      <td>Two year</td>\n",
       "      <td>Yes</td>\n",
       "      <td>Bank transfer (automatic)</td>\n",
       "      <td>19.25</td>\n",
       "      <td>1372.9</td>\n",
       "    </tr>\n",
       "    <tr>\n",
       "      <th>7247</th>\n",
       "      <td>9966-VYRTZ</td>\n",
       "      <td></td>\n",
       "      <td>Female</td>\n",
       "      <td>0</td>\n",
       "      <td>Yes</td>\n",
       "      <td>Yes</td>\n",
       "      <td>31</td>\n",
       "      <td>Yes</td>\n",
       "      <td>No</td>\n",
       "      <td>No</td>\n",
       "      <td>...</td>\n",
       "      <td>No internet service</td>\n",
       "      <td>No internet service</td>\n",
       "      <td>No internet service</td>\n",
       "      <td>No internet service</td>\n",
       "      <td>No internet service</td>\n",
       "      <td>Month-to-month</td>\n",
       "      <td>Yes</td>\n",
       "      <td>Mailed check</td>\n",
       "      <td>19.55</td>\n",
       "      <td>658.95</td>\n",
       "    </tr>\n",
       "  </tbody>\n",
       "</table>\n",
       "<p>224 rows × 21 columns</p>\n",
       "</div>"
      ],
      "text/plain": [
       "      customerID Churn customer_gender  customer_SeniorCitizen  \\\n",
       "30    0047-ZHDTW                Female                       0   \n",
       "75    0120-YZLQA                  Male                       0   \n",
       "96    0154-QYHJU                  Male                       0   \n",
       "98    0162-RZGMZ                Female                       1   \n",
       "175   0274-VVQOQ                  Male                       1   \n",
       "...          ...   ...             ...                     ...   \n",
       "7158  9840-GSRFX                Female                       0   \n",
       "7180  9872-RZQQB                Female                       0   \n",
       "7211  9920-GNDMB                  Male                       0   \n",
       "7239  9955-RVWSC                Female                       0   \n",
       "7247  9966-VYRTZ                Female                       0   \n",
       "\n",
       "     customer_Partner customer_Dependents  customer_tenure phone_PhoneService  \\\n",
       "30                 No                  No               11                Yes   \n",
       "75                 No                  No               71                Yes   \n",
       "96                 No                  No               29                Yes   \n",
       "98                 No                  No                5                Yes   \n",
       "175               Yes                  No               65                Yes   \n",
       "...               ...                 ...              ...                ...   \n",
       "7158               No                  No               14                Yes   \n",
       "7180              Yes                  No               49                 No   \n",
       "7211               No                  No                9                Yes   \n",
       "7239              Yes                 Yes               67                Yes   \n",
       "7247              Yes                 Yes               31                Yes   \n",
       "\n",
       "     phone_MultipleLines internet_InternetService  ... internet_OnlineBackup  \\\n",
       "30                   Yes              Fiber optic  ...                    No   \n",
       "75                    No                       No  ...   No internet service   \n",
       "96                    No                      DSL  ...                   Yes   \n",
       "98                    No                      DSL  ...                   Yes   \n",
       "175                  Yes              Fiber optic  ...                   Yes   \n",
       "...                  ...                      ...  ...                   ...   \n",
       "7158                 Yes                      DSL  ...                   Yes   \n",
       "7180    No phone service                      DSL  ...                    No   \n",
       "7211                 Yes              Fiber optic  ...                    No   \n",
       "7239                  No                       No  ...   No internet service   \n",
       "7247                  No                       No  ...   No internet service   \n",
       "\n",
       "     internet_DeviceProtection internet_TechSupport internet_StreamingTV  \\\n",
       "30                          No                   No                   No   \n",
       "75         No internet service  No internet service  No internet service   \n",
       "96                          No                  Yes                   No   \n",
       "98                          No                  Yes                   No   \n",
       "175                        Yes                   No                  Yes   \n",
       "...                        ...                  ...                  ...   \n",
       "7158                        No                   No                   No   \n",
       "7180                        No                   No                  Yes   \n",
       "7211                        No                   No                   No   \n",
       "7239       No internet service  No internet service  No internet service   \n",
       "7247       No internet service  No internet service  No internet service   \n",
       "\n",
       "     internet_StreamingMovies account_Contract account_PaperlessBilling  \\\n",
       "30                         No   Month-to-month                      Yes   \n",
       "75        No internet service         Two year                      Yes   \n",
       "96                         No         One year                      Yes   \n",
       "98                         No   Month-to-month                       No   \n",
       "175                       Yes         One year                      Yes   \n",
       "...                       ...              ...                      ...   \n",
       "7158                       No         One year                      Yes   \n",
       "7180                       No   Month-to-month                       No   \n",
       "7211                       No   Month-to-month                      Yes   \n",
       "7239      No internet service         Two year                      Yes   \n",
       "7247      No internet service   Month-to-month                      Yes   \n",
       "\n",
       "          account_PaymentMethod account_Charges.Monthly  account_Charges.Total  \n",
       "30    Bank transfer (automatic)                   79.00                  929.3  \n",
       "75      Credit card (automatic)                   19.90                 1355.1  \n",
       "96             Electronic check                   58.75                 1696.2  \n",
       "98      Credit card (automatic)                   59.90                 287.85  \n",
       "175   Bank transfer (automatic)                  103.15                6792.45  \n",
       "...                         ...                     ...                    ...  \n",
       "7158               Mailed check                   54.25                  773.2  \n",
       "7180  Bank transfer (automatic)                   40.65                2070.75  \n",
       "7211           Electronic check                   76.25                 684.85  \n",
       "7239  Bank transfer (automatic)                   19.25                 1372.9  \n",
       "7247               Mailed check                   19.55                 658.95  \n",
       "\n",
       "[224 rows x 21 columns]"
      ]
     },
     "execution_count": 7,
     "metadata": {},
     "output_type": "execute_result"
    }
   ],
   "source": [
    "empty_lines = df[df['Churn'].str.strip() == '']\n",
    "\n",
    "empty_lines"
   ]
  },
  {
   "cell_type": "code",
   "execution_count": 8,
   "id": "85a62be8",
   "metadata": {},
   "outputs": [
    {
     "name": "stdout",
     "output_type": "stream",
     "text": [
      "Linhas com valores ausentes em 'Churn': 224\n",
      "Representando 3.08% do Total de linhas\n"
     ]
    }
   ],
   "source": [
    "nulls = df['Churn'].isna().sum()\n",
    "empty = (df['Churn'].astype(str).str.strip() == '').sum()\n",
    "df_len = len(df)\n",
    "\n",
    "percent = ((nulls + empty)/ df_len) * 100\n",
    "\n",
    "print(f\"Linhas com valores ausentes em 'Churn': {nulls + empty}\")\n",
    "print(f\"Representando {percent:.2f}% do Total de linhas\")\n"
   ]
  },
  {
   "cell_type": "code",
   "execution_count": 9,
   "id": "f5b677d0",
   "metadata": {},
   "outputs": [
    {
     "data": {
      "text/plain": [
       "0"
      ]
     },
     "execution_count": 9,
     "metadata": {},
     "output_type": "execute_result"
    }
   ],
   "source": [
    "df = df[df['Churn'].notna()] #remove as linhas onde os valores são nulos em Nan (ainda que a ferramenta indique que não existem).\n",
    "df = df[df['Churn'].str.strip() != ''] #remove as linhas sem valor.\n",
    "\n",
    "(df['Churn'].str.strip() == '').sum() #checando se totdos os valores vazios foram extraídos."
   ]
  },
  {
   "cell_type": "markdown",
   "id": "8c55b5ca",
   "metadata": {},
   "source": [
    "#### Tratamento de valores ausentes na coluna `Churn`\n",
    "\n",
    "##### Durante a análise exploratória, foi identificada a ausência de **224 valores** na coluna, o que representa aproximadamente **3,08% do total de registros**.\n",
    "\n",
    "##### Essa ausência é inesperada**, pois esta é a variável-alvo da análise, ela que indica se o cliente rescindiu ou não o contrato com a empresa.\n",
    "\n",
    "##### Por se tratar de uma **informação factual** (ou seja, o cliente efetivamente cancelou ou não), não é possível inferir ou imputar esses valores de forma segura.\n",
    "\n",
    "##### **Decisão**: as linhas com valores ausentes em `Churn` foram **removidas do DataFrame**, garantindo que a análise seja baseada apenas em registros com informação completa sobre evasão.\n"
   ]
  },
  {
   "cell_type": "markdown",
   "id": "da1cd991",
   "metadata": {},
   "source": [
    "#### Checando valores nulos ou ausentes nas outras colunas que utilizarei."
   ]
  },
  {
   "cell_type": "code",
   "execution_count": 10,
   "id": "03f9a381",
   "metadata": {},
   "outputs": [
    {
     "data": {
      "text/plain": [
       "0"
      ]
     },
     "execution_count": 10,
     "metadata": {},
     "output_type": "execute_result"
    }
   ],
   "source": [
    "df['customer_tenure'].isna().sum()"
   ]
  },
  {
   "cell_type": "code",
   "execution_count": 11,
   "id": "642ed312",
   "metadata": {},
   "outputs": [
    {
     "data": {
      "text/plain": [
       "0"
      ]
     },
     "execution_count": 11,
     "metadata": {},
     "output_type": "execute_result"
    }
   ],
   "source": [
    "(df['account_Contract'].str.strip() == '').sum()"
   ]
  },
  {
   "cell_type": "code",
   "execution_count": 12,
   "id": "de91fd58",
   "metadata": {},
   "outputs": [
    {
     "data": {
      "text/plain": [
       "0"
      ]
     },
     "execution_count": 12,
     "metadata": {},
     "output_type": "execute_result"
    }
   ],
   "source": [
    "df['account_Charges.Monthly'].isna().sum()"
   ]
  },
  {
   "cell_type": "code",
   "execution_count": 13,
   "id": "62ed91ca",
   "metadata": {},
   "outputs": [
    {
     "data": {
      "text/plain": [
       "0"
      ]
     },
     "execution_count": 13,
     "metadata": {},
     "output_type": "execute_result"
    }
   ],
   "source": [
    "(df['account_Charges.Monthly'] == 0.00).sum() #verificando se existe algum valor contratado igual a 0 no data frame"
   ]
  },
  {
   "cell_type": "code",
   "execution_count": 17,
   "id": "31968e3a",
   "metadata": {},
   "outputs": [
    {
     "data": {
      "text/plain": [
       "0"
      ]
     },
     "execution_count": 17,
     "metadata": {},
     "output_type": "execute_result"
    }
   ],
   "source": [
    "(df['internet_InternetService'].str.strip() == '').sum()"
   ]
  },
  {
   "cell_type": "code",
   "execution_count": 18,
   "id": "4139e358",
   "metadata": {},
   "outputs": [
    {
     "data": {
      "text/plain": [
       "0"
      ]
     },
     "execution_count": 18,
     "metadata": {},
     "output_type": "execute_result"
    }
   ],
   "source": [
    "(df['internet_OnlineSecurity'].str.strip() == '').sum()"
   ]
  },
  {
   "cell_type": "code",
   "execution_count": 19,
   "id": "edc3496f",
   "metadata": {},
   "outputs": [
    {
     "data": {
      "text/plain": [
       "0"
      ]
     },
     "execution_count": 19,
     "metadata": {},
     "output_type": "execute_result"
    }
   ],
   "source": [
    "(df['internet_OnlineBackup'].str.strip() == '').sum()"
   ]
  },
  {
   "cell_type": "code",
   "execution_count": 20,
   "id": "43e57287",
   "metadata": {},
   "outputs": [
    {
     "data": {
      "text/plain": [
       "0"
      ]
     },
     "execution_count": 20,
     "metadata": {},
     "output_type": "execute_result"
    }
   ],
   "source": [
    "(df['internet_DeviceProtection'].str.strip() == '').sum()"
   ]
  },
  {
   "cell_type": "code",
   "execution_count": 21,
   "id": "e0f2ca22",
   "metadata": {},
   "outputs": [
    {
     "data": {
      "text/plain": [
       "0"
      ]
     },
     "execution_count": 21,
     "metadata": {},
     "output_type": "execute_result"
    }
   ],
   "source": [
    "(df['internet_TechSupport'].str.strip() == '').sum()"
   ]
  },
  {
   "cell_type": "code",
   "execution_count": 22,
   "id": "f5ea3eaf",
   "metadata": {},
   "outputs": [
    {
     "data": {
      "text/plain": [
       "0"
      ]
     },
     "execution_count": 22,
     "metadata": {},
     "output_type": "execute_result"
    }
   ],
   "source": [
    "(df['internet_StreamingTV'].str.strip() == '').sum()"
   ]
  },
  {
   "cell_type": "code",
   "execution_count": 23,
   "id": "7cbdd739",
   "metadata": {},
   "outputs": [
    {
     "data": {
      "text/plain": [
       "0"
      ]
     },
     "execution_count": 23,
     "metadata": {},
     "output_type": "execute_result"
    }
   ],
   "source": [
    "(df['internet_StreamingMovies'].str.strip() == '').sum()"
   ]
  },
  {
   "cell_type": "code",
   "execution_count": 24,
   "id": "930379ef",
   "metadata": {},
   "outputs": [
    {
     "data": {
      "text/plain": [
       "0"
      ]
     },
     "execution_count": 24,
     "metadata": {},
     "output_type": "execute_result"
    }
   ],
   "source": [
    "(df['account_PaymentMethod'].str.strip() == '').sum()"
   ]
  },
  {
   "cell_type": "code",
   "execution_count": 25,
   "id": "89ca43e2",
   "metadata": {},
   "outputs": [
    {
     "data": {
      "text/plain": [
       "0"
      ]
     },
     "execution_count": 25,
     "metadata": {},
     "output_type": "execute_result"
    }
   ],
   "source": [
    "(df['customer_gender'].str.strip() == '').sum()"
   ]
  },
  {
   "cell_type": "code",
   "execution_count": 26,
   "id": "e26c0e81",
   "metadata": {},
   "outputs": [
    {
     "data": {
      "text/plain": [
       "0"
      ]
     },
     "execution_count": 26,
     "metadata": {},
     "output_type": "execute_result"
    }
   ],
   "source": [
    "(df['phone_PhoneService'].str.strip() == '').sum()"
   ]
  },
  {
   "cell_type": "markdown",
   "id": "bb195945",
   "metadata": {},
   "source": [
    "##### Nenhum valor nulo ou ausente foi identificado nessas colunas.\n",
    "##### Com isso, não foi necessário aplicar nenhum tratamento adicional de preenchimento ou exclusão de registros nesta etapa."
   ]
  },
  {
   "cell_type": "markdown",
   "id": "783dd55e",
   "metadata": {},
   "source": [
    "#### Verificação da coluna `account_Charges.Total`"
   ]
  },
  {
   "cell_type": "code",
   "execution_count": 14,
   "id": "44f1b481",
   "metadata": {},
   "outputs": [
    {
     "data": {
      "text/plain": [
       "11"
      ]
     },
     "execution_count": 14,
     "metadata": {},
     "output_type": "execute_result"
    }
   ],
   "source": [
    "(df['account_Charges.Total'].str.strip() == '').sum()"
   ]
  },
  {
   "cell_type": "code",
   "execution_count": 15,
   "id": "35904f1e",
   "metadata": {},
   "outputs": [],
   "source": [
    "empty_lines = df[df['account_Charges.Total'].str.strip() == '']\n"
   ]
  },
  {
   "cell_type": "markdown",
   "id": "e400f524",
   "metadata": {},
   "source": [
    "##### Ajuste na coluna `account_Charges.Total`\n",
    "\n",
    "##### A coluna `account_Charges.Total` representa o valor total faturado por cliente até o momento da análise. Esse valor é, em regra, o resultado da multiplicação entre `account_Charges.Monthly` e `customer_tenure`.\n",
    "\n",
    "##### Durante a checagem, foram encontrados **11 registros sem valor** nessa coluna, mesmo com valor positivo em `account_Charges.Monthly`.\n",
    "\n",
    "##### Observação: em todos os casos, o campo `customer_tenure` era igual a 0, o que indica que o cliente ainda **não completou o primeiro mês de uso**. Portanto, é **esperado que o total faturado seja zero**, já que para esses clientes ainda **não foram geradas cobranças recorrentes**.\n",
    "\n",
    "##### Decisão: acrescentar o valor **0.00** nesses casos.\n",
    "\n",
    "##### Além disso, como `account_Charges.Total` representa um valor monetário, a coluna foi convertida para o tipo **float**, garantindo a consistência dos tipos de dados para análises numéricas e agregações futuras.\n"
   ]
  },
  {
   "cell_type": "code",
   "execution_count": 16,
   "id": "b94d2c0a",
   "metadata": {},
   "outputs": [
    {
     "name": "stdout",
     "output_type": "stream",
     "text": [
      "<class 'pandas.core.frame.DataFrame'>\n",
      "Index: 7043 entries, 0 to 7266\n",
      "Data columns (total 21 columns):\n",
      " #   Column                     Non-Null Count  Dtype  \n",
      "---  ------                     --------------  -----  \n",
      " 0   customerID                 7043 non-null   object \n",
      " 1   Churn                      7043 non-null   object \n",
      " 2   customer_gender            7043 non-null   object \n",
      " 3   customer_SeniorCitizen     7043 non-null   int64  \n",
      " 4   customer_Partner           7043 non-null   object \n",
      " 5   customer_Dependents        7043 non-null   object \n",
      " 6   customer_tenure            7043 non-null   int64  \n",
      " 7   phone_PhoneService         7043 non-null   object \n",
      " 8   phone_MultipleLines        7043 non-null   object \n",
      " 9   internet_InternetService   7043 non-null   object \n",
      " 10  internet_OnlineSecurity    7043 non-null   object \n",
      " 11  internet_OnlineBackup      7043 non-null   object \n",
      " 12  internet_DeviceProtection  7043 non-null   object \n",
      " 13  internet_TechSupport       7043 non-null   object \n",
      " 14  internet_StreamingTV       7043 non-null   object \n",
      " 15  internet_StreamingMovies   7043 non-null   object \n",
      " 16  account_Contract           7043 non-null   object \n",
      " 17  account_PaperlessBilling   7043 non-null   object \n",
      " 18  account_PaymentMethod      7043 non-null   object \n",
      " 19  account_Charges.Monthly    7043 non-null   float64\n",
      " 20  account_Charges.Total      7043 non-null   float64\n",
      "dtypes: float64(2), int64(2), object(17)\n",
      "memory usage: 1.2+ MB\n"
     ]
    }
   ],
   "source": [
    "df['account_Charges.Total'] = df['account_Charges.Total'].replace(r'^\\s*$', pd.NA, regex=True)\n",
    "df['account_Charges.Total'] = pd.to_numeric(df['account_Charges.Total'], errors='coerce')\n",
    "df['account_Charges.Total'] = df['account_Charges.Total'].fillna(0.00)\n",
    "df['account_Charges.Total'] = df['account_Charges.Total'].astype(float)\n",
    "df.info()\n"
   ]
  },
  {
   "cell_type": "markdown",
   "id": "ceca4eac",
   "metadata": {},
   "source": [
    "#### Padronização de valores e preparação da base\n",
    "\n",
    "##### Nesta etapa, será realizada a **padronização de valores categóricos** que estavam descritos de forma diferente de `'Yes'` ou `'No'`, a fim de manter a consistência semântica da base e evitar interpretações ambíguas nos gráficos e análises.\n",
    "\n",
    "##### Em seguida, será criado um **novo DataFrame contendo apenas as colunas relevantes** para a análise exploratória, com o objetivo de trabalhar com um subconjunto mais limpo e focado dos dados.\n",
    "\n",
    "##### Também foi criada uma nova coluna, chamada `account_Charges.Daily`, que representa o valor diário da conta mensal. Esta métrica poderá ser útil futuramente para investigações adicionais de consumo proporcional ao tempo de permanência.\n"
   ]
  },
  {
   "cell_type": "code",
   "execution_count": 27,
   "id": "7d9f4d1f",
   "metadata": {},
   "outputs": [],
   "source": [
    "df.replace('No internet service', 'No', inplace=True)\n",
    "df.replace('No phone service', 'No', inplace=True)"
   ]
  },
  {
   "cell_type": "code",
   "execution_count": 28,
   "id": "11ea7649",
   "metadata": {},
   "outputs": [],
   "source": [
    "#criando um novo df somente com as colunas a serem usadas\n",
    "\n",
    "columns = ['customerID',\n",
    "    'Churn',\n",
    "    'customer_gender',\n",
    "    'customer_tenure',\n",
    "    'phone_PhoneService',\n",
    "    'internet_InternetService',\n",
    "    'internet_OnlineSecurity',\n",
    "    'internet_OnlineBackup',\n",
    "    'internet_DeviceProtection',\n",
    "    'internet_TechSupport',\n",
    "    'internet_StreamingTV',\n",
    "    'internet_StreamingMovies',\n",
    "    'account_Contract',\n",
    "    'account_PaymentMethod',\n",
    "    'account_Charges.Monthly',\n",
    "    'account_Charges.Total']\n",
    "\n",
    "df_churn = df[columns].copy()"
   ]
  },
  {
   "cell_type": "code",
   "execution_count": 29,
   "id": "f80c477f",
   "metadata": {},
   "outputs": [
    {
     "data": {
      "text/html": [
       "<div>\n",
       "<style scoped>\n",
       "    .dataframe tbody tr th:only-of-type {\n",
       "        vertical-align: middle;\n",
       "    }\n",
       "\n",
       "    .dataframe tbody tr th {\n",
       "        vertical-align: top;\n",
       "    }\n",
       "\n",
       "    .dataframe thead th {\n",
       "        text-align: right;\n",
       "    }\n",
       "</style>\n",
       "<table border=\"1\" class=\"dataframe\">\n",
       "  <thead>\n",
       "    <tr style=\"text-align: right;\">\n",
       "      <th></th>\n",
       "      <th>customerID</th>\n",
       "      <th>Churn</th>\n",
       "      <th>customer_gender</th>\n",
       "      <th>customer_tenure</th>\n",
       "      <th>phone_PhoneService</th>\n",
       "      <th>internet_InternetService</th>\n",
       "      <th>internet_OnlineSecurity</th>\n",
       "      <th>internet_OnlineBackup</th>\n",
       "      <th>internet_DeviceProtection</th>\n",
       "      <th>internet_TechSupport</th>\n",
       "      <th>internet_StreamingTV</th>\n",
       "      <th>internet_StreamingMovies</th>\n",
       "      <th>account_Contract</th>\n",
       "      <th>account_PaymentMethod</th>\n",
       "      <th>account_Charges.Monthly</th>\n",
       "      <th>account_Charges.Total</th>\n",
       "      <th>account_Charges.Daily</th>\n",
       "    </tr>\n",
       "  </thead>\n",
       "  <tbody>\n",
       "    <tr>\n",
       "      <th>0</th>\n",
       "      <td>0002-ORFBO</td>\n",
       "      <td>No</td>\n",
       "      <td>Female</td>\n",
       "      <td>9</td>\n",
       "      <td>Yes</td>\n",
       "      <td>DSL</td>\n",
       "      <td>No</td>\n",
       "      <td>Yes</td>\n",
       "      <td>No</td>\n",
       "      <td>Yes</td>\n",
       "      <td>Yes</td>\n",
       "      <td>No</td>\n",
       "      <td>One year</td>\n",
       "      <td>Mailed check</td>\n",
       "      <td>65.6</td>\n",
       "      <td>593.30</td>\n",
       "      <td>2.19</td>\n",
       "    </tr>\n",
       "    <tr>\n",
       "      <th>1</th>\n",
       "      <td>0003-MKNFE</td>\n",
       "      <td>No</td>\n",
       "      <td>Male</td>\n",
       "      <td>9</td>\n",
       "      <td>Yes</td>\n",
       "      <td>DSL</td>\n",
       "      <td>No</td>\n",
       "      <td>No</td>\n",
       "      <td>No</td>\n",
       "      <td>No</td>\n",
       "      <td>No</td>\n",
       "      <td>Yes</td>\n",
       "      <td>Month-to-month</td>\n",
       "      <td>Mailed check</td>\n",
       "      <td>59.9</td>\n",
       "      <td>542.40</td>\n",
       "      <td>2.00</td>\n",
       "    </tr>\n",
       "    <tr>\n",
       "      <th>2</th>\n",
       "      <td>0004-TLHLJ</td>\n",
       "      <td>Yes</td>\n",
       "      <td>Male</td>\n",
       "      <td>4</td>\n",
       "      <td>Yes</td>\n",
       "      <td>Fiber optic</td>\n",
       "      <td>No</td>\n",
       "      <td>No</td>\n",
       "      <td>Yes</td>\n",
       "      <td>No</td>\n",
       "      <td>No</td>\n",
       "      <td>No</td>\n",
       "      <td>Month-to-month</td>\n",
       "      <td>Electronic check</td>\n",
       "      <td>73.9</td>\n",
       "      <td>280.85</td>\n",
       "      <td>2.46</td>\n",
       "    </tr>\n",
       "    <tr>\n",
       "      <th>3</th>\n",
       "      <td>0011-IGKFF</td>\n",
       "      <td>Yes</td>\n",
       "      <td>Male</td>\n",
       "      <td>13</td>\n",
       "      <td>Yes</td>\n",
       "      <td>Fiber optic</td>\n",
       "      <td>No</td>\n",
       "      <td>Yes</td>\n",
       "      <td>Yes</td>\n",
       "      <td>No</td>\n",
       "      <td>Yes</td>\n",
       "      <td>Yes</td>\n",
       "      <td>Month-to-month</td>\n",
       "      <td>Electronic check</td>\n",
       "      <td>98.0</td>\n",
       "      <td>1237.85</td>\n",
       "      <td>3.27</td>\n",
       "    </tr>\n",
       "    <tr>\n",
       "      <th>4</th>\n",
       "      <td>0013-EXCHZ</td>\n",
       "      <td>Yes</td>\n",
       "      <td>Female</td>\n",
       "      <td>3</td>\n",
       "      <td>Yes</td>\n",
       "      <td>Fiber optic</td>\n",
       "      <td>No</td>\n",
       "      <td>No</td>\n",
       "      <td>No</td>\n",
       "      <td>Yes</td>\n",
       "      <td>Yes</td>\n",
       "      <td>No</td>\n",
       "      <td>Month-to-month</td>\n",
       "      <td>Mailed check</td>\n",
       "      <td>83.9</td>\n",
       "      <td>267.40</td>\n",
       "      <td>2.80</td>\n",
       "    </tr>\n",
       "  </tbody>\n",
       "</table>\n",
       "</div>"
      ],
      "text/plain": [
       "   customerID Churn customer_gender  customer_tenure phone_PhoneService  \\\n",
       "0  0002-ORFBO    No          Female                9                Yes   \n",
       "1  0003-MKNFE    No            Male                9                Yes   \n",
       "2  0004-TLHLJ   Yes            Male                4                Yes   \n",
       "3  0011-IGKFF   Yes            Male               13                Yes   \n",
       "4  0013-EXCHZ   Yes          Female                3                Yes   \n",
       "\n",
       "  internet_InternetService internet_OnlineSecurity internet_OnlineBackup  \\\n",
       "0                      DSL                      No                   Yes   \n",
       "1                      DSL                      No                    No   \n",
       "2              Fiber optic                      No                    No   \n",
       "3              Fiber optic                      No                   Yes   \n",
       "4              Fiber optic                      No                    No   \n",
       "\n",
       "  internet_DeviceProtection internet_TechSupport internet_StreamingTV  \\\n",
       "0                        No                  Yes                  Yes   \n",
       "1                        No                   No                   No   \n",
       "2                       Yes                   No                   No   \n",
       "3                       Yes                   No                  Yes   \n",
       "4                        No                  Yes                  Yes   \n",
       "\n",
       "  internet_StreamingMovies account_Contract account_PaymentMethod  \\\n",
       "0                       No         One year          Mailed check   \n",
       "1                      Yes   Month-to-month          Mailed check   \n",
       "2                       No   Month-to-month      Electronic check   \n",
       "3                      Yes   Month-to-month      Electronic check   \n",
       "4                       No   Month-to-month          Mailed check   \n",
       "\n",
       "   account_Charges.Monthly  account_Charges.Total  account_Charges.Daily  \n",
       "0                     65.6                 593.30                   2.19  \n",
       "1                     59.9                 542.40                   2.00  \n",
       "2                     73.9                 280.85                   2.46  \n",
       "3                     98.0                1237.85                   3.27  \n",
       "4                     83.9                 267.40                   2.80  "
      ]
     },
     "execution_count": 29,
     "metadata": {},
     "output_type": "execute_result"
    }
   ],
   "source": [
    "# Criando a coluna Contas diárias.\n",
    "\n",
    "df_churn['account_Charges.Daily'] = (df_churn['account_Charges.Monthly']/30).round(2) \n",
    "df_churn.head()"
   ]
  },
  {
   "cell_type": "markdown",
   "id": "b2a279b6",
   "metadata": {},
   "source": [
    "### Análise Exploratória (EDA)"
   ]
  },
  {
   "cell_type": "markdown",
   "id": "6cf7aad6",
   "metadata": {},
   "source": [
    "#### Distribuição de Churn.\n",
    "\n",
    "##### Antes de investigar os fatores relacionados ao cancelamento, é importante entender **como está distribuída a variável-alvo `Churn`**.\n",
    "\n",
    "##### Essa distribuição tem o objetivo de ajudar a:\n",
    "##### - Compreender o **equilíbrio (ou desequilíbrio)** da base de dados.\n",
    "##### - Saber se estamos lidando com uma **base balanceada ou desbalanceada**, o que pode impactar decisões futuras de modelagem.\n",
    "##### - Ter uma visão inicial da **proporção de clientes que permanecem versus os que cancelam**.\n",
    "\n",
    "##### A seguir, demonstro a distribuição percentual da taxa de Churn."
   ]
  },
  {
   "cell_type": "code",
   "execution_count": 30,
   "id": "8ecd3edf",
   "metadata": {},
   "outputs": [
    {
     "data": {
      "text/html": [
       "<div>\n",
       "<style scoped>\n",
       "    .dataframe tbody tr th:only-of-type {\n",
       "        vertical-align: middle;\n",
       "    }\n",
       "\n",
       "    .dataframe tbody tr th {\n",
       "        vertical-align: top;\n",
       "    }\n",
       "\n",
       "    .dataframe thead th {\n",
       "        text-align: right;\n",
       "    }\n",
       "</style>\n",
       "<table border=\"1\" class=\"dataframe\">\n",
       "  <thead>\n",
       "    <tr style=\"text-align: right;\">\n",
       "      <th></th>\n",
       "      <th>customer_tenure</th>\n",
       "      <th>account_Charges.Monthly</th>\n",
       "      <th>account_Charges.Total</th>\n",
       "      <th>account_Charges.Daily</th>\n",
       "    </tr>\n",
       "  </thead>\n",
       "  <tbody>\n",
       "    <tr>\n",
       "      <th>count</th>\n",
       "      <td>7043.00</td>\n",
       "      <td>7043.00</td>\n",
       "      <td>7043.00</td>\n",
       "      <td>7043.00</td>\n",
       "    </tr>\n",
       "    <tr>\n",
       "      <th>mean</th>\n",
       "      <td>32.37</td>\n",
       "      <td>64.76</td>\n",
       "      <td>2279.73</td>\n",
       "      <td>2.16</td>\n",
       "    </tr>\n",
       "    <tr>\n",
       "      <th>std</th>\n",
       "      <td>24.56</td>\n",
       "      <td>30.09</td>\n",
       "      <td>2266.79</td>\n",
       "      <td>1.00</td>\n",
       "    </tr>\n",
       "    <tr>\n",
       "      <th>min</th>\n",
       "      <td>0.00</td>\n",
       "      <td>18.25</td>\n",
       "      <td>0.00</td>\n",
       "      <td>0.61</td>\n",
       "    </tr>\n",
       "    <tr>\n",
       "      <th>25%</th>\n",
       "      <td>9.00</td>\n",
       "      <td>35.50</td>\n",
       "      <td>398.55</td>\n",
       "      <td>1.18</td>\n",
       "    </tr>\n",
       "    <tr>\n",
       "      <th>50%</th>\n",
       "      <td>29.00</td>\n",
       "      <td>70.35</td>\n",
       "      <td>1394.55</td>\n",
       "      <td>2.34</td>\n",
       "    </tr>\n",
       "    <tr>\n",
       "      <th>75%</th>\n",
       "      <td>55.00</td>\n",
       "      <td>89.85</td>\n",
       "      <td>3786.60</td>\n",
       "      <td>2.99</td>\n",
       "    </tr>\n",
       "    <tr>\n",
       "      <th>max</th>\n",
       "      <td>72.00</td>\n",
       "      <td>118.75</td>\n",
       "      <td>8684.80</td>\n",
       "      <td>3.96</td>\n",
       "    </tr>\n",
       "  </tbody>\n",
       "</table>\n",
       "</div>"
      ],
      "text/plain": [
       "       customer_tenure  account_Charges.Monthly  account_Charges.Total  \\\n",
       "count          7043.00                  7043.00                7043.00   \n",
       "mean             32.37                    64.76                2279.73   \n",
       "std              24.56                    30.09                2266.79   \n",
       "min               0.00                    18.25                   0.00   \n",
       "25%               9.00                    35.50                 398.55   \n",
       "50%              29.00                    70.35                1394.55   \n",
       "75%              55.00                    89.85                3786.60   \n",
       "max              72.00                   118.75                8684.80   \n",
       "\n",
       "       account_Charges.Daily  \n",
       "count                7043.00  \n",
       "mean                    2.16  \n",
       "std                     1.00  \n",
       "min                     0.61  \n",
       "25%                     1.18  \n",
       "50%                     2.34  \n",
       "75%                     2.99  \n",
       "max                     3.96  "
      ]
     },
     "execution_count": 30,
     "metadata": {},
     "output_type": "execute_result"
    }
   ],
   "source": [
    "(df_churn.describe()).round(2)"
   ]
  },
  {
   "cell_type": "code",
   "execution_count": 113,
   "id": "2c536a3e",
   "metadata": {},
   "outputs": [
    {
     "data": {
      "image/png": "[encoded data removed]",
      "text/plain": [
       "<Figure size 640x480 with 1 Axes>"
      ]
     },
     "metadata": {},
     "output_type": "display_data"
    }
   ],
   "source": [
    "churn_count = df_churn['Churn'].value_counts(normalize=True).sort_index()\n",
    "churn_count = churn_count.loc[['Yes', 'No']]\n",
    "colors = ['lightsteelblue', 'steelblue']\n",
    "\n",
    "ax = churn_count.plot(kind='bar', color=colors, rot=0)\n",
    "ax.set_facecolor('whitesmoke')\n",
    "ax.set_title('Distribuição de Churn (%)', loc='left', fontsize=16)\n",
    "ax.set_xlabel('')\n",
    "ax.set_yticks([])\n",
    "ax.tick_params(axis='x', length=0)\n",
    "\n",
    "for i, valor in  enumerate(churn_count):\n",
    "    percent = f\"{valor*100:.2f}%\"\n",
    "    ax.text(i, valor+ 0.01, percent, ha='center', fontsize=10)\n",
    "\n",
    "ax.spines['top'].set_visible(False)\n",
    "ax.spines['right'].set_visible(False)\n",
    "ax.spines['left'].set_visible(False)\n",
    "ax.spines['bottom'].set_visible(False)\n",
    "\n",
    "plt.tight_layout()\n",
    "plt.savefig('grafico_distribuicao_churn.png', dpi=300, bbox_inches='tight')\n",
    "plt.show()"
   ]
  },
  {
   "cell_type": "code",
   "execution_count": 58,
   "id": "00ec7c06",
   "metadata": {},
   "outputs": [
    {
     "name": "stdout",
     "output_type": "stream",
     "text": [
      "Taxa de Churn: 26.54%\n"
     ]
    }
   ],
   "source": [
    "num_churn = df_churn[df_churn['Churn'] == 'Yes'].shape[0]\n",
    "total = df_churn.shape[0]\n",
    "churn_rate = (num_churn/total) * 100\n",
    "\n",
    "print(f\"Taxa de Churn: {churn_rate:.2f}%\")"
   ]
  },
  {
   "cell_type": "markdown",
   "id": "96b3bd56",
   "metadata": {},
   "source": [
    "##### A taxa de churn identificada na base de dados é de **26,54%**, o que indica que **aproximadamente 1 em cada 4 clientes cancela o serviço**.\n",
    "\n",
    "##### Em contrapartida, **73,46% dos clientes permanecem ativos**.\n",
    "\n",
    "##### Essa proporção demonstra uma **base majoritariamente fiel**, mas com um nível de evasão considerável — o suficiente para justificar uma investigação aprofundada sobre **quais perfis estão mais propensos a abandonar o serviço**.\n"
   ]
  },
  {
   "cell_type": "markdown",
   "id": "be196e1d",
   "metadata": {},
   "source": [
    "#### Comparação de perfil dos clientes.\n",
    "##### Abaixo, apresentamos a média de três variáveis numéricas para os dois grupos (`Churn = No` e `Churn = Yes`):"
   ]
  },
  {
   "cell_type": "code",
   "execution_count": 32,
   "id": "6ceedb6e",
   "metadata": {},
   "outputs": [
    {
     "data": {
      "text/html": [
       "<div>\n",
       "<style scoped>\n",
       "    .dataframe tbody tr th:only-of-type {\n",
       "        vertical-align: middle;\n",
       "    }\n",
       "\n",
       "    .dataframe tbody tr th {\n",
       "        vertical-align: top;\n",
       "    }\n",
       "\n",
       "    .dataframe thead th {\n",
       "        text-align: right;\n",
       "    }\n",
       "</style>\n",
       "<table border=\"1\" class=\"dataframe\">\n",
       "  <thead>\n",
       "    <tr style=\"text-align: right;\">\n",
       "      <th></th>\n",
       "      <th>customer_tenure</th>\n",
       "      <th>account_Charges.Monthly</th>\n",
       "      <th>account_Charges.Total</th>\n",
       "    </tr>\n",
       "    <tr>\n",
       "      <th>Churn</th>\n",
       "      <th></th>\n",
       "      <th></th>\n",
       "      <th></th>\n",
       "    </tr>\n",
       "  </thead>\n",
       "  <tbody>\n",
       "    <tr>\n",
       "      <th>No</th>\n",
       "      <td>37.57</td>\n",
       "      <td>61.27</td>\n",
       "      <td>2549.91</td>\n",
       "    </tr>\n",
       "    <tr>\n",
       "      <th>Yes</th>\n",
       "      <td>17.98</td>\n",
       "      <td>74.44</td>\n",
       "      <td>1531.80</td>\n",
       "    </tr>\n",
       "  </tbody>\n",
       "</table>\n",
       "</div>"
      ],
      "text/plain": [
       "       customer_tenure  account_Charges.Monthly  account_Charges.Total\n",
       "Churn                                                                 \n",
       "No               37.57                    61.27                2549.91\n",
       "Yes              17.98                    74.44                1531.80"
      ]
     },
     "execution_count": 32,
     "metadata": {},
     "output_type": "execute_result"
    }
   ],
   "source": [
    "(df_churn.groupby('Churn')[['customer_tenure', 'account_Charges.Monthly', 'account_Charges.Total']].mean()).round(2)"
   ]
  },
  {
   "cell_type": "markdown",
   "id": "377a1852",
   "metadata": {},
   "source": [
    "#### Interpretação:\n",
    "\n",
    "##### - **Tempo de permanência:** clientes que cancelam tendem a sair **bem antes** (em média, após ~18 meses), enquanto os que permanecem já estão em média há mais de 3 anos com a empresa.\n",
    "##### - **Mensalidade:** os clientes que cancelam pagam **valores mensais mais altos**, o que pode indicar **expectativas maiores em relação à qualidade do serviço**.\n",
    "##### - **Total acumulado:** apesar da mensalidade ser mais alta, clientes que cancelam **pagaram menos no total**, justamente porque ficaram menos tempo na empresa.\n",
    "\n",
    "##### Esses dados sugerem que o churn está mais associado a **clientes recentes e com contratos de maior valor**, o que levanta hipóteses sobre **insatisfação inicial ou dificuldade de retenção nos primeiros meses**.\n"
   ]
  },
  {
   "cell_type": "code",
   "execution_count": 114,
   "id": "703289ff",
   "metadata": {},
   "outputs": [
    {
     "data": {
      "image/png": "[encoded data removed]",
      "text/plain": [
       "<Figure size 640x480 with 1 Axes>"
      ]
     },
     "metadata": {},
     "output_type": "display_data"
    }
   ],
   "source": [
    "sns.set(style= 'whitegrid')\n",
    "order = ['Yes', 'No']\n",
    "\n",
    "ax = sns.boxplot(\n",
    "    x = 'Churn',\n",
    "    y = 'customer_tenure',\n",
    "    hue='Churn',\n",
    "    data = df_churn,\n",
    "    order = order,\n",
    "    palette = {'No': 'lightsteelblue', 'Yes': 'steelblue'},\n",
    "    legend=False\n",
    ")\n",
    "\n",
    "ax.set_facecolor('whitesmoke')\n",
    "ax.figure.set_facecolor('whitesmoke')\n",
    "sns.despine(top=True, right=True)\n",
    "plt.title('Tempo de permanencia por status de churn.', fontsize=16, loc='left', weight='bold')\n",
    "ax.set_xlabel('Satus de Churn')\n",
    "ax.set_ylabel('Tempo de permanencia em meses')\n",
    "\n",
    "yes_data = df_churn[df_churn['Churn']== 'Yes']['customer_tenure']\n",
    "\n",
    "q1 = np.percentile(yes_data, 25)\n",
    "q2 = np.percentile(yes_data, 50)\n",
    "q3 = np.percentile(yes_data, 75)\n",
    "iqr = q3 - q1 #intervalo interquartil\n",
    "outliers = yes_data[(yes_data < q1 - 1.5 * iqr) | (yes_data > q3 + 1.5 * iqr)]\n",
    "\n",
    "\n",
    "x_pos = 0 \n",
    "\n",
    "annotation_text = f\"Q1: {q1:.0f}\\nMediana: {q2:.0f}\\nQ3: {q3:.0f}\"\n",
    "ax.annotate(\n",
    "    annotation_text,\n",
    "    xy= (x_pos, q3 + 5),\n",
    "    xytext= (x_pos - 0.3, q3 + 6),\n",
    "    textcoords = 'data',\n",
    "    bbox = dict(boxstyle='round, pad=0.3', fc='white', ec='gray', alpha=0.9),\n",
    "    fontsize=9,\n",
    "    ha='left',\n",
    "    va='center'\n",
    "    )\n",
    "\n",
    "outliers_counts = outliers.value_counts()\n",
    "outlier_text = f\"Outliers:\\n\" + \"\\n\".join([f\"{val:.0f} ({count}x)\" for val, count in outliers_counts.items()])\n",
    "ax.annotate(\n",
    "    outlier_text,\n",
    "    xy=(x_pos, outliers.max()),\n",
    "    xytext=(x_pos - 0.45, outliers.max() + 2),\n",
    "    textcoords='data',\n",
    "    bbox=dict(boxstyle='round, pad=0.3', fc='white', ec='gray', alpha=0.9),\n",
    "    fontsize=9,\n",
    "    ha='left',\n",
    "    va='top'\n",
    ")\n",
    "\n",
    "ax.yaxis.grid(True, color='grey', linestyle='--', linewidth=0.5, alpha=0.3)\n",
    "plt.savefig('grafico_permanencia_por_Churn.png', dpi=300, bbox_inches='tight')\n",
    "plt.show()"
   ]
  },
  {
   "cell_type": "markdown",
   "id": "c84f63c5",
   "metadata": {},
   "source": [
    "#### Tempo de permanência X Churn\n",
    "\n",
    "##### O gráfico acima mostra a distribuição do tempo de permanência dos clientes (`customer_tenure`) em relação ao churn.\n",
    "\n",
    "##### **Principais observações:**\n",
    "\n",
    "##### - A **mediana de permanência dos clientes que cancelam (`Yes`) é de apenas 10 meses**, enquanto para os que permanecem (`No`) é de 38 meses aproximadamente.\n",
    "##### - A dispersão dos clientes que permanecem é maior, com muitos deles ficando acima de 60 meses.\n",
    "##### - O grupo de churn apresenta **vários outliers próximos ao limite superior (70, 71, 72 meses)** — sugerindo que uma pequena parte dos clientes antigos também decide sair.\n",
    "##### - A **distribuição assimétrica** e o grande número de valores baixos para churn indicam que **a maior parte dos cancelamentos acontece nos primeiros meses de contrato**.\n",
    "\n",
    "##### **Conclusão:** há uma clara relação entre **tempo curto de permanência** e **maior probabilidade de churn**. Isso reforça a importância de ações de retenção logo nos primeiros meses após a adesão do cliente.\n"
   ]
  },
  {
   "cell_type": "code",
   "execution_count": 34,
   "id": "d83878d9",
   "metadata": {},
   "outputs": [
    {
     "data": {
      "text/html": [
       "<div>\n",
       "<style scoped>\n",
       "    .dataframe tbody tr th:only-of-type {\n",
       "        vertical-align: middle;\n",
       "    }\n",
       "\n",
       "    .dataframe tbody tr th {\n",
       "        vertical-align: top;\n",
       "    }\n",
       "\n",
       "    .dataframe thead th {\n",
       "        text-align: right;\n",
       "    }\n",
       "</style>\n",
       "<table border=\"1\" class=\"dataframe\">\n",
       "  <thead>\n",
       "    <tr style=\"text-align: right;\">\n",
       "      <th>Churn</th>\n",
       "      <th>No</th>\n",
       "      <th>Yes</th>\n",
       "    </tr>\n",
       "    <tr>\n",
       "      <th>account_Contract</th>\n",
       "      <th></th>\n",
       "      <th></th>\n",
       "    </tr>\n",
       "  </thead>\n",
       "  <tbody>\n",
       "    <tr>\n",
       "      <th>Month-to-month</th>\n",
       "      <td>2220</td>\n",
       "      <td>1655</td>\n",
       "    </tr>\n",
       "    <tr>\n",
       "      <th>One year</th>\n",
       "      <td>1307</td>\n",
       "      <td>166</td>\n",
       "    </tr>\n",
       "    <tr>\n",
       "      <th>Two year</th>\n",
       "      <td>1647</td>\n",
       "      <td>48</td>\n",
       "    </tr>\n",
       "  </tbody>\n",
       "</table>\n",
       "</div>"
      ],
      "text/plain": [
       "Churn               No   Yes\n",
       "account_Contract            \n",
       "Month-to-month    2220  1655\n",
       "One year          1307   166\n",
       "Two year          1647    48"
      ]
     },
     "execution_count": 34,
     "metadata": {},
     "output_type": "execute_result"
    }
   ],
   "source": [
    "contract = (pd.crosstab(df_churn['account_Contract'], df_churn['Churn']).sort_values(by='Yes', ascending=False)).round(2)\n",
    "\n",
    "contract"
   ]
  },
  {
   "cell_type": "code",
   "execution_count": 115,
   "id": "c06b70f6",
   "metadata": {},
   "outputs": [
    {
     "data": {
      "image/png": "[encoded data removed]",
      "text/plain": [
       "<Figure size 640x480 with 1 Axes>"
      ]
     },
     "metadata": {},
     "output_type": "display_data"
    }
   ],
   "source": [
    "order = (df_churn[df_churn['Churn'] == 'Yes']\n",
    "         ['account_Contract'].value_counts()\n",
    "         .sort_values(ascending=False).index)\n",
    "\n",
    "palette = {'Yes': 'steelblue', 'No': 'lightsteelblue'}\n",
    "\n",
    "ax = sns.countplot(\n",
    "    x='account_Contract',\n",
    "    hue='Churn',\n",
    "    data=df_churn,\n",
    "    palette=palette,\n",
    "    hue_order=['Yes', 'No'],\n",
    "    order=order\n",
    ")\n",
    "\n",
    "ax.set_facecolor('whitesmoke')\n",
    "ax.figure.set_facecolor('whitesmoke')\n",
    "ax.set_ylabel('')\n",
    "ax.set_xlabel('Tipo de contrato', fontsize=12)\n",
    "plt.title('Churn por tipo de contrato', loc='left', fontsize=16)\n",
    "sns.despine(top=True, right=True)\n",
    "\n",
    "\n",
    "\n",
    "for container in ax.containers:\n",
    "    ax.bar_label(container, fmt='%d', label_type='edge', padding=2, fontsize=9)\n",
    "\n",
    "ax.yaxis.grid(True, color='grey', linestyle='--', linewidth=0.5, alpha=0.3)\n",
    "\n",
    "plt.tight_layout()\n",
    "plt.savefig('grafico_churn_tipo_contrato.png', dpi=300, bbox_inches='tight')\n",
    "plt.show()\n"
   ]
  },
  {
   "cell_type": "markdown",
   "id": "28260a9c",
   "metadata": {},
   "source": [
    "#### Relação entre tipo de contrato e churn\n",
    "\n",
    "##### O gráfico acima mostra a distribuição de cancelamentos (`Churn`) em relação ao tipo de contrato firmado com a empresa:\n",
    "\n",
    "##### **Principais observações:**\n",
    "\n",
    "##### - A **grande maioria dos cancelamentos ocorre entre clientes com contrato mensal** (`Month-to-month`), representando cerca de **92% dos casos de churn**.\n",
    "##### - Os clientes com contratos de **1 ano ou 2 anos** apresentam **índices muito menores de evasão**.\n",
    "##### - O número de clientes que permanecem cresce proporcionalmente com a duração do contrato, o que sugere **um efeito de fidelização**.\n",
    "\n",
    "#####  **Conclusão:** clientes que optam por contratos mais longos estão muito menos propensos a cancelar. Isso pode indicar:\n",
    "##### - Maior comprometimento com o serviço\n",
    "##### - Descontos ou benefícios em contratos longos\n",
    "##### - Possível perfil de cliente mais estável e satisfeito\n",
    "\n",
    "##### **Insight de negócio:** a empresa pode considerar **incentivar a migração para contratos anuais ou bienais**, especialmente para novos clientes, como forma de reduzir o churn.\n"
   ]
  },
  {
   "cell_type": "markdown",
   "id": "00571a12",
   "metadata": {},
   "source": [
    "#### Relação entre método de pagamento e churn"
   ]
  },
  {
   "cell_type": "code",
   "execution_count": 36,
   "id": "6c4baceb",
   "metadata": {},
   "outputs": [
    {
     "data": {
      "text/html": [
       "<div>\n",
       "<style scoped>\n",
       "    .dataframe tbody tr th:only-of-type {\n",
       "        vertical-align: middle;\n",
       "    }\n",
       "\n",
       "    .dataframe tbody tr th {\n",
       "        vertical-align: top;\n",
       "    }\n",
       "\n",
       "    .dataframe thead th {\n",
       "        text-align: right;\n",
       "    }\n",
       "</style>\n",
       "<table border=\"1\" class=\"dataframe\">\n",
       "  <thead>\n",
       "    <tr style=\"text-align: right;\">\n",
       "      <th>Churn</th>\n",
       "      <th>No</th>\n",
       "      <th>Yes</th>\n",
       "    </tr>\n",
       "    <tr>\n",
       "      <th>account_PaymentMethod</th>\n",
       "      <th></th>\n",
       "      <th></th>\n",
       "    </tr>\n",
       "  </thead>\n",
       "  <tbody>\n",
       "    <tr>\n",
       "      <th>Electronic check</th>\n",
       "      <td>1294</td>\n",
       "      <td>1071</td>\n",
       "    </tr>\n",
       "    <tr>\n",
       "      <th>Mailed check</th>\n",
       "      <td>1304</td>\n",
       "      <td>308</td>\n",
       "    </tr>\n",
       "    <tr>\n",
       "      <th>Bank transfer (automatic)</th>\n",
       "      <td>1286</td>\n",
       "      <td>258</td>\n",
       "    </tr>\n",
       "    <tr>\n",
       "      <th>Credit card (automatic)</th>\n",
       "      <td>1290</td>\n",
       "      <td>232</td>\n",
       "    </tr>\n",
       "  </tbody>\n",
       "</table>\n",
       "</div>"
      ],
      "text/plain": [
       "Churn                        No   Yes\n",
       "account_PaymentMethod                \n",
       "Electronic check           1294  1071\n",
       "Mailed check               1304   308\n",
       "Bank transfer (automatic)  1286   258\n",
       "Credit card (automatic)    1290   232"
      ]
     },
     "execution_count": 36,
     "metadata": {},
     "output_type": "execute_result"
    }
   ],
   "source": [
    "pay_method = (pd.crosstab(df_churn['account_PaymentMethod'], df_churn['Churn']).sort_values(by='Yes', ascending=False)).round(2)\n",
    "\n",
    "pay_method"
   ]
  },
  {
   "cell_type": "code",
   "execution_count": 116,
   "id": "4b00c3e2",
   "metadata": {},
   "outputs": [
    {
     "data": {
      "image/png": "[encoded data removed]",
      "text/plain": [
       "<Figure size 900x500 with 1 Axes>"
      ]
     },
     "metadata": {},
     "output_type": "display_data"
    }
   ],
   "source": [
    "order = (\n",
    "    df_churn[df_churn['Churn'] == 'Yes']\n",
    "    ['account_PaymentMethod']\n",
    "    .value_counts()\n",
    "    .sort_values(ascending=False)\n",
    "    .index\n",
    ")\n",
    "\n",
    "palette = {'Yes': 'steelblue', 'No': 'lightsteelblue'}\n",
    "\n",
    "fig, ax = plt.subplots(figsize=(9,5))\n",
    "\n",
    "ax = sns.countplot(\n",
    "    y='account_PaymentMethod',\n",
    "    hue='Churn',\n",
    "    data=df_churn,\n",
    "    palette=palette,\n",
    "    hue_order=['Yes', 'No'],\n",
    "    order=order,\n",
    "    ax=ax\n",
    ")\n",
    "\n",
    "ax.set_facecolor('whitesmoke')\n",
    "ax.figure.set_facecolor('whitesmoke')\n",
    "ax.set_ylabel('Método de pagamento', fontsize=12)\n",
    "ax.set_xlabel('')\n",
    "plt.title('Churn por método de pagamento', loc='left', fontsize=16)\n",
    "sns.despine(top=True, right=True)\n",
    "\n",
    "for container in ax.containers:\n",
    "    ax.bar_label(container, fmt='%d', label_type='edge', padding=2, fontsize=9)\n",
    "\n",
    "ax.legend(title='Churn',\n",
    "          loc='center left',\n",
    "          bbox_to_anchor=(1.0,0.5),\n",
    "          frameon=False,\n",
    "          fontsize=9,\n",
    "          title_fontsize=10\n",
    "          )\n",
    "\n",
    "ax.xaxis.grid(True, color='grey', linestyle='--', linewidth=0.5, alpha=0.3)\n",
    "\n",
    "plt.tight_layout()\n",
    "plt.savefig('grafico_churn_metodo_pagamento.png', dpi=300, bbox_inches='tight')\n",
    "plt.show()\n"
   ]
  },
  {
   "cell_type": "markdown",
   "id": "3a4635aa",
   "metadata": {},
   "source": [
    "##### O gráfico acima mostra a distribuição dos clientes de acordo com o método de pagamento utilizado e o status de churn:\n",
    "##### **Observações:**\n",
    "\n",
    "##### - O método **“Electronic check”** concentra **mais de 40% de todos os cancelamentos**.\n",
    "##### - Os métodos **automáticos** (cartão de crédito e transferência bancária) apresentam **baixas taxas absolutas de churn**, mesmo com número similar de clientes.\n",
    "##### - **Pagamentos manuais** (como `Electronic check` e `Mailed check`) estão mais associados ao cancelamento.\n",
    "\n",
    "##### **Conclusão:** há uma **correlação negativa entre churn e o uso de métodos de pagamento automáticos** — ou seja, quem adere a pagamentos automáticos tende a **permanecer mais tempo com a empresa**.\n",
    "\n",
    "##### **Insight de negócio:** incentivar o uso de métodos automáticos (com descontos, brindes ou campanhas educativas) pode ajudar a **reduzir a evasão**.\n"
   ]
  },
  {
   "cell_type": "code",
   "execution_count": 117,
   "id": "1505bd0a",
   "metadata": {},
   "outputs": [
    {
     "data": {
      "text/html": [
       "<div>\n",
       "<style scoped>\n",
       "    .dataframe tbody tr th:only-of-type {\n",
       "        vertical-align: middle;\n",
       "    }\n",
       "\n",
       "    .dataframe tbody tr th {\n",
       "        vertical-align: top;\n",
       "    }\n",
       "\n",
       "    .dataframe thead th {\n",
       "        text-align: right;\n",
       "    }\n",
       "</style>\n",
       "<table border=\"1\" class=\"dataframe\">\n",
       "  <thead>\n",
       "    <tr style=\"text-align: right;\">\n",
       "      <th>Churn</th>\n",
       "      <th>No</th>\n",
       "      <th>Yes</th>\n",
       "      <th>Total</th>\n",
       "      <th>Churn Rate (%)</th>\n",
       "    </tr>\n",
       "    <tr>\n",
       "      <th>internet_InternetService</th>\n",
       "      <th></th>\n",
       "      <th></th>\n",
       "      <th></th>\n",
       "      <th></th>\n",
       "    </tr>\n",
       "  </thead>\n",
       "  <tbody>\n",
       "    <tr>\n",
       "      <th>Fiber optic</th>\n",
       "      <td>1799</td>\n",
       "      <td>1297</td>\n",
       "      <td>3096</td>\n",
       "      <td>41.89</td>\n",
       "    </tr>\n",
       "    <tr>\n",
       "      <th>DSL</th>\n",
       "      <td>1962</td>\n",
       "      <td>459</td>\n",
       "      <td>2421</td>\n",
       "      <td>18.96</td>\n",
       "    </tr>\n",
       "    <tr>\n",
       "      <th>No</th>\n",
       "      <td>1413</td>\n",
       "      <td>113</td>\n",
       "      <td>1526</td>\n",
       "      <td>7.40</td>\n",
       "    </tr>\n",
       "  </tbody>\n",
       "</table>\n",
       "</div>"
      ],
      "text/plain": [
       "Churn                       No   Yes  Total  Churn Rate (%)\n",
       "internet_InternetService                                   \n",
       "Fiber optic               1799  1297   3096           41.89\n",
       "DSL                       1962   459   2421           18.96\n",
       "No                        1413   113   1526            7.40"
      ]
     },
     "execution_count": 117,
     "metadata": {},
     "output_type": "execute_result"
    }
   ],
   "source": [
    "internet_serv = (pd.crosstab(df_churn['internet_InternetService'], df_churn['Churn']).sort_values(by='Yes', ascending=False)).round(2)\n",
    "\n",
    "internet_serv['Total']= internet_serv['Yes'] + internet_serv['No']\n",
    "\n",
    "internet_serv['Churn Rate (%)'] = (internet_serv['Yes']/internet_serv['Total'] * 100).round(2)\n",
    "\n",
    "internet_serv"
   ]
  },
  {
   "cell_type": "markdown",
   "id": "daf4565e",
   "metadata": {},
   "source": [
    "#### Relação entre tipo de serviço de internet e churn\n",
    "\n",
    "##### A princípio, o serviço de `Fiber optic` aparenta concentrar a maior parte dos cancelamentos. No entanto, como esse também é o serviço com o maior número total de clientes, é importante analisar a **taxa de churn proporcional** por tipo de serviço:\n",
    "##### **Observações:**\n",
    "\n",
    "##### - Clientes com **serviço de fibra óptica** apresentam **a maior taxa de churn proporcional**, mesmo sendo maioria.\n",
    "##### - Já os clientes com DSL ou sem internet têm taxas de cancelamento significativamente mais baixas.\n",
    "##### - Isso pode indicar que, apesar da superioridade técnica da fibra, algo na **experiência percebida**, **atendimento** ou **precificação** está gerando insatisfação nesse grupo.\n",
    "\n",
    "##### **Conclusão:** o tipo de serviço está sim relacionado ao churn, mas é necessário analisar **proporcionalmente** para evitar distorções. A **fibra óptica, apesar de moderna, parece concentrar o maior risco de perda de clientes**.\n",
    "\n",
    "##### **Próximo passo possível:** investigar se clientes com fibra também possuem mensalidades mais altas ou se concentram em planos mensais.\n"
   ]
  },
  {
   "cell_type": "code",
   "execution_count": 121,
   "id": "1fd40c3e",
   "metadata": {},
   "outputs": [
    {
     "name": "stdout",
     "output_type": "stream",
     "text": [
      "Contagem por tipo de contrato (clientes de fibra óptica em churn):\n",
      "account_Contract\n",
      "Month-to-month    1162\n",
      "One year           104\n",
      "Two year            31\n",
      "Name: count, dtype: int64\n",
      "\n",
      "Mensalidade média (clientes de fibra óptica em churn): $ 88.13\n"
     ]
    }
   ],
   "source": [
    "# Filtrando apenas os clientes que têm fibra óptica e estão em churn\n",
    "fiber_churn = df_churn[\n",
    "    (df_churn['internet_InternetService'] == 'Fiber optic') & \n",
    "    (df_churn['Churn'] == 'Yes')\n",
    "]\n",
    "\n",
    "# Cruzamento entre tipo de contrato e contagem de clientes em churn com fibra\n",
    "fiber_contract = fiber_churn['account_Contract'].value_counts()\n",
    "\n",
    "# Calculando a média da mensalidade desses clientes\n",
    "fiber_monthly_avg = fiber_churn['account_Charges.Monthly'].mean()\n",
    "\n",
    "# Exibindo os resultados\n",
    "print(\"Contagem por tipo de contrato (clientes de fibra óptica em churn):\")\n",
    "print(fiber_contract)\n",
    "\n",
    "print(f\"\\nMensalidade média (clientes de fibra óptica em churn): $ {fiber_monthly_avg:.2f}\")\n"
   ]
  },
  {
   "cell_type": "markdown",
   "id": "22d1a7ba",
   "metadata": {},
   "source": [
    "#### Análise do churn entre clientes com serviço de fibra óptica\n",
    "\n",
    "##### Dentre os clientes que cancelaram e utilizavam o serviço de internet por fibra óptica:\n",
    "\n",
    "##### - **89,6% estavam em contratos mensais**\n",
    "##### - A **mensalidade média foi de 88,13**, acima da média geral de churn ($ 74,44)\n",
    "\n",
    "##### Esses dados indicam que **clientes com contratos mais curtos e custos mais altos** formam o grupo com **maior risco de cancelamento**.\n",
    "\n",
    "##### **Insight estratégico:** revisar os benefícios percebidos nos planos de fibra com mensalidade elevada pode ser essencial para **reduzir a evasão nesse público-alvo**.\n"
   ]
  },
  {
   "cell_type": "markdown",
   "id": "d8714ed5",
   "metadata": {},
   "source": [
    "#### Análise de relação entre serviços extras de internet e Churn."
   ]
  },
  {
   "cell_type": "code",
   "execution_count": 122,
   "id": "fe968326",
   "metadata": {},
   "outputs": [
    {
     "data": {
      "text/html": [
       "<div>\n",
       "<style scoped>\n",
       "    .dataframe tbody tr th:only-of-type {\n",
       "        vertical-align: middle;\n",
       "    }\n",
       "\n",
       "    .dataframe tbody tr th {\n",
       "        vertical-align: top;\n",
       "    }\n",
       "\n",
       "    .dataframe thead th {\n",
       "        text-align: right;\n",
       "    }\n",
       "</style>\n",
       "<table border=\"1\" class=\"dataframe\">\n",
       "  <thead>\n",
       "    <tr style=\"text-align: right;\">\n",
       "      <th>Churn</th>\n",
       "      <th>No</th>\n",
       "      <th>Yes</th>\n",
       "      <th>Total</th>\n",
       "      <th>Churn_rate (%)</th>\n",
       "    </tr>\n",
       "    <tr>\n",
       "      <th>internet_OnlineSecurity</th>\n",
       "      <th></th>\n",
       "      <th></th>\n",
       "      <th></th>\n",
       "      <th></th>\n",
       "    </tr>\n",
       "  </thead>\n",
       "  <tbody>\n",
       "    <tr>\n",
       "      <th>No</th>\n",
       "      <td>3450</td>\n",
       "      <td>1574</td>\n",
       "      <td>5024</td>\n",
       "      <td>31.33</td>\n",
       "    </tr>\n",
       "    <tr>\n",
       "      <th>Yes</th>\n",
       "      <td>1724</td>\n",
       "      <td>295</td>\n",
       "      <td>2019</td>\n",
       "      <td>14.61</td>\n",
       "    </tr>\n",
       "  </tbody>\n",
       "</table>\n",
       "</div>"
      ],
      "text/plain": [
       "Churn                      No   Yes  Total  Churn_rate (%)\n",
       "internet_OnlineSecurity                                   \n",
       "No                       3450  1574   5024           31.33\n",
       "Yes                      1724   295   2019           14.61"
      ]
     },
     "execution_count": 122,
     "metadata": {},
     "output_type": "execute_result"
    }
   ],
   "source": [
    "internet_sec = (pd.crosstab(df_churn['internet_OnlineSecurity'], df_churn['Churn']).sort_values(by='Yes', ascending=False)).round(2)\n",
    "internet_sec['Total'] = internet_sec['Yes'] + internet_sec['No']\n",
    "\n",
    "# Calculando taxa de churn (%)\n",
    "internet_sec['Churn_rate (%)'] = (internet_sec['Yes'] / internet_sec['Total'] * 100).round(2)\n",
    "\n",
    "internet_sec"
   ]
  },
  {
   "cell_type": "code",
   "execution_count": 123,
   "id": "e6a5e897",
   "metadata": {},
   "outputs": [
    {
     "data": {
      "text/html": [
       "<div>\n",
       "<style scoped>\n",
       "    .dataframe tbody tr th:only-of-type {\n",
       "        vertical-align: middle;\n",
       "    }\n",
       "\n",
       "    .dataframe tbody tr th {\n",
       "        vertical-align: top;\n",
       "    }\n",
       "\n",
       "    .dataframe thead th {\n",
       "        text-align: right;\n",
       "    }\n",
       "</style>\n",
       "<table border=\"1\" class=\"dataframe\">\n",
       "  <thead>\n",
       "    <tr style=\"text-align: right;\">\n",
       "      <th>Churn</th>\n",
       "      <th>No</th>\n",
       "      <th>Yes</th>\n",
       "      <th>Total</th>\n",
       "      <th>Churn_rate (%)</th>\n",
       "    </tr>\n",
       "    <tr>\n",
       "      <th>internet_OnlineBackup</th>\n",
       "      <th></th>\n",
       "      <th></th>\n",
       "      <th></th>\n",
       "      <th></th>\n",
       "    </tr>\n",
       "  </thead>\n",
       "  <tbody>\n",
       "    <tr>\n",
       "      <th>No</th>\n",
       "      <td>3268</td>\n",
       "      <td>1346</td>\n",
       "      <td>4614</td>\n",
       "      <td>29.17</td>\n",
       "    </tr>\n",
       "    <tr>\n",
       "      <th>Yes</th>\n",
       "      <td>1906</td>\n",
       "      <td>523</td>\n",
       "      <td>2429</td>\n",
       "      <td>21.53</td>\n",
       "    </tr>\n",
       "  </tbody>\n",
       "</table>\n",
       "</div>"
      ],
      "text/plain": [
       "Churn                    No   Yes  Total  Churn_rate (%)\n",
       "internet_OnlineBackup                                   \n",
       "No                     3268  1346   4614           29.17\n",
       "Yes                    1906   523   2429           21.53"
      ]
     },
     "execution_count": 123,
     "metadata": {},
     "output_type": "execute_result"
    }
   ],
   "source": [
    "internet_bac = (pd.crosstab(df_churn['internet_OnlineBackup'], df_churn['Churn']).sort_values(by='Yes', ascending=False)).round(2)\n",
    "internet_bac['Total'] = internet_bac['Yes'] + internet_bac['No']\n",
    "\n",
    "# Calculando taxa de churn (%)\n",
    "internet_bac['Churn_rate (%)'] = (internet_bac['Yes'] / internet_bac['Total'] * 100).round(2)\n",
    "internet_bac"
   ]
  },
  {
   "cell_type": "code",
   "execution_count": 124,
   "id": "6f005b17",
   "metadata": {},
   "outputs": [
    {
     "data": {
      "text/html": [
       "<div>\n",
       "<style scoped>\n",
       "    .dataframe tbody tr th:only-of-type {\n",
       "        vertical-align: middle;\n",
       "    }\n",
       "\n",
       "    .dataframe tbody tr th {\n",
       "        vertical-align: top;\n",
       "    }\n",
       "\n",
       "    .dataframe thead th {\n",
       "        text-align: right;\n",
       "    }\n",
       "</style>\n",
       "<table border=\"1\" class=\"dataframe\">\n",
       "  <thead>\n",
       "    <tr style=\"text-align: right;\">\n",
       "      <th>Churn</th>\n",
       "      <th>No</th>\n",
       "      <th>Yes</th>\n",
       "      <th>Total</th>\n",
       "      <th>Churn_rate (%)</th>\n",
       "    </tr>\n",
       "    <tr>\n",
       "      <th>internet_DeviceProtection</th>\n",
       "      <th></th>\n",
       "      <th></th>\n",
       "      <th></th>\n",
       "      <th></th>\n",
       "    </tr>\n",
       "  </thead>\n",
       "  <tbody>\n",
       "    <tr>\n",
       "      <th>No</th>\n",
       "      <td>3297</td>\n",
       "      <td>1324</td>\n",
       "      <td>4621</td>\n",
       "      <td>28.65</td>\n",
       "    </tr>\n",
       "    <tr>\n",
       "      <th>Yes</th>\n",
       "      <td>1877</td>\n",
       "      <td>545</td>\n",
       "      <td>2422</td>\n",
       "      <td>22.50</td>\n",
       "    </tr>\n",
       "  </tbody>\n",
       "</table>\n",
       "</div>"
      ],
      "text/plain": [
       "Churn                        No   Yes  Total  Churn_rate (%)\n",
       "internet_DeviceProtection                                   \n",
       "No                         3297  1324   4621           28.65\n",
       "Yes                        1877   545   2422           22.50"
      ]
     },
     "execution_count": 124,
     "metadata": {},
     "output_type": "execute_result"
    }
   ],
   "source": [
    "internet_prot = (pd.crosstab(df_churn['internet_DeviceProtection'], df_churn['Churn']).sort_values(by='Yes', ascending=False)).round(2)\n",
    "internet_prot['Total'] = internet_prot['Yes'] + internet_prot['No']\n",
    "\n",
    "# Calculando taxa de churn (%)\n",
    "internet_prot['Churn_rate (%)'] = (internet_prot['Yes'] / internet_prot['Total'] * 100).round(2)\n",
    "internet_prot"
   ]
  },
  {
   "cell_type": "code",
   "execution_count": 126,
   "id": "2c5d845e",
   "metadata": {},
   "outputs": [
    {
     "data": {
      "text/html": [
       "<div>\n",
       "<style scoped>\n",
       "    .dataframe tbody tr th:only-of-type {\n",
       "        vertical-align: middle;\n",
       "    }\n",
       "\n",
       "    .dataframe tbody tr th {\n",
       "        vertical-align: top;\n",
       "    }\n",
       "\n",
       "    .dataframe thead th {\n",
       "        text-align: right;\n",
       "    }\n",
       "</style>\n",
       "<table border=\"1\" class=\"dataframe\">\n",
       "  <thead>\n",
       "    <tr style=\"text-align: right;\">\n",
       "      <th>Churn</th>\n",
       "      <th>No</th>\n",
       "      <th>Yes</th>\n",
       "      <th>Total</th>\n",
       "      <th>Churn_rate (%)</th>\n",
       "    </tr>\n",
       "    <tr>\n",
       "      <th>internet_TechSupport</th>\n",
       "      <th></th>\n",
       "      <th></th>\n",
       "      <th></th>\n",
       "      <th></th>\n",
       "    </tr>\n",
       "  </thead>\n",
       "  <tbody>\n",
       "    <tr>\n",
       "      <th>No</th>\n",
       "      <td>3440</td>\n",
       "      <td>1559</td>\n",
       "      <td>4999</td>\n",
       "      <td>31.19</td>\n",
       "    </tr>\n",
       "    <tr>\n",
       "      <th>Yes</th>\n",
       "      <td>1734</td>\n",
       "      <td>310</td>\n",
       "      <td>2044</td>\n",
       "      <td>15.17</td>\n",
       "    </tr>\n",
       "  </tbody>\n",
       "</table>\n",
       "</div>"
      ],
      "text/plain": [
       "Churn                   No   Yes  Total  Churn_rate (%)\n",
       "internet_TechSupport                                   \n",
       "No                    3440  1559   4999           31.19\n",
       "Yes                   1734   310   2044           15.17"
      ]
     },
     "execution_count": 126,
     "metadata": {},
     "output_type": "execute_result"
    }
   ],
   "source": [
    "internet_sup = (pd.crosstab(df_churn['internet_TechSupport'], df_churn['Churn']).sort_values(by='Yes', ascending=False)).round(2)\n",
    "internet_sup['Total'] = internet_sup['Yes'] + internet_sup['No']\n",
    "\n",
    "# Calculando taxa de churn (%)\n",
    "internet_sup['Churn_rate (%)'] = (internet_sup['Yes'] / internet_sup['Total'] * 100).round(2)\n",
    "internet_sup"
   ]
  },
  {
   "cell_type": "code",
   "execution_count": 125,
   "id": "c4321782",
   "metadata": {},
   "outputs": [
    {
     "data": {
      "text/html": [
       "<div>\n",
       "<style scoped>\n",
       "    .dataframe tbody tr th:only-of-type {\n",
       "        vertical-align: middle;\n",
       "    }\n",
       "\n",
       "    .dataframe tbody tr th {\n",
       "        vertical-align: top;\n",
       "    }\n",
       "\n",
       "    .dataframe thead th {\n",
       "        text-align: right;\n",
       "    }\n",
       "</style>\n",
       "<table border=\"1\" class=\"dataframe\">\n",
       "  <thead>\n",
       "    <tr style=\"text-align: right;\">\n",
       "      <th>Churn</th>\n",
       "      <th>No</th>\n",
       "      <th>Yes</th>\n",
       "      <th>Total</th>\n",
       "      <th>Churn_rate (%)</th>\n",
       "    </tr>\n",
       "    <tr>\n",
       "      <th>internet_StreamingTV</th>\n",
       "      <th></th>\n",
       "      <th></th>\n",
       "      <th></th>\n",
       "      <th></th>\n",
       "    </tr>\n",
       "  </thead>\n",
       "  <tbody>\n",
       "    <tr>\n",
       "      <th>No</th>\n",
       "      <td>3281</td>\n",
       "      <td>1055</td>\n",
       "      <td>4336</td>\n",
       "      <td>24.33</td>\n",
       "    </tr>\n",
       "    <tr>\n",
       "      <th>Yes</th>\n",
       "      <td>1893</td>\n",
       "      <td>814</td>\n",
       "      <td>2707</td>\n",
       "      <td>30.07</td>\n",
       "    </tr>\n",
       "  </tbody>\n",
       "</table>\n",
       "</div>"
      ],
      "text/plain": [
       "Churn                   No   Yes  Total  Churn_rate (%)\n",
       "internet_StreamingTV                                   \n",
       "No                    3281  1055   4336           24.33\n",
       "Yes                   1893   814   2707           30.07"
      ]
     },
     "execution_count": 125,
     "metadata": {},
     "output_type": "execute_result"
    }
   ],
   "source": [
    "#\t\t\n",
    "internet_tv = (pd.crosstab(df_churn['internet_StreamingTV'], df_churn['Churn']).sort_values(by='Yes', ascending=False)).round(2)\n",
    "internet_tv['Total'] = internet_tv['Yes'] + internet_tv['No']\n",
    "\n",
    "# Calculando taxa de churn (%)\n",
    "internet_tv['Churn_rate (%)'] = (internet_tv['Yes'] / internet_tv['Total'] * 100).round(2)\n",
    "internet_tv"
   ]
  },
  {
   "cell_type": "code",
   "execution_count": 127,
   "id": "7c028c65",
   "metadata": {},
   "outputs": [
    {
     "data": {
      "text/html": [
       "<div>\n",
       "<style scoped>\n",
       "    .dataframe tbody tr th:only-of-type {\n",
       "        vertical-align: middle;\n",
       "    }\n",
       "\n",
       "    .dataframe tbody tr th {\n",
       "        vertical-align: top;\n",
       "    }\n",
       "\n",
       "    .dataframe thead th {\n",
       "        text-align: right;\n",
       "    }\n",
       "</style>\n",
       "<table border=\"1\" class=\"dataframe\">\n",
       "  <thead>\n",
       "    <tr style=\"text-align: right;\">\n",
       "      <th>Churn</th>\n",
       "      <th>No</th>\n",
       "      <th>Yes</th>\n",
       "      <th>Total</th>\n",
       "      <th>Churn_rate (%)</th>\n",
       "    </tr>\n",
       "    <tr>\n",
       "      <th>internet_StreamingMovies</th>\n",
       "      <th></th>\n",
       "      <th></th>\n",
       "      <th></th>\n",
       "      <th></th>\n",
       "    </tr>\n",
       "  </thead>\n",
       "  <tbody>\n",
       "    <tr>\n",
       "      <th>No</th>\n",
       "      <td>3260</td>\n",
       "      <td>1051</td>\n",
       "      <td>4311</td>\n",
       "      <td>24.38</td>\n",
       "    </tr>\n",
       "    <tr>\n",
       "      <th>Yes</th>\n",
       "      <td>1914</td>\n",
       "      <td>818</td>\n",
       "      <td>2732</td>\n",
       "      <td>29.94</td>\n",
       "    </tr>\n",
       "  </tbody>\n",
       "</table>\n",
       "</div>"
      ],
      "text/plain": [
       "Churn                       No   Yes  Total  Churn_rate (%)\n",
       "internet_StreamingMovies                                   \n",
       "No                        3260  1051   4311           24.38\n",
       "Yes                       1914   818   2732           29.94"
      ]
     },
     "execution_count": 127,
     "metadata": {},
     "output_type": "execute_result"
    }
   ],
   "source": [
    "internet_mov = (pd.crosstab(df_churn['internet_StreamingMovies'], df_churn['Churn']).sort_values(by='Yes', ascending=False)).round(2)\n",
    "internet_mov['Total'] = internet_mov['Yes'] + internet_mov['No']\n",
    "\n",
    "# Calculando taxa de churn (%)\n",
    "internet_mov['Churn_rate (%)'] = (internet_mov['Yes'] / internet_mov['Total'] * 100).round(2)\n",
    "internet_mov"
   ]
  },
  {
   "cell_type": "code",
   "execution_count": 137,
   "id": "d0a456f2",
   "metadata": {},
   "outputs": [
    {
     "data": {
      "image/png": "[encoded data removed]",
      "text/plain": [
       "<Figure size 1000x500 with 1 Axes>"
      ]
     },
     "metadata": {},
     "output_type": "display_data"
    }
   ],
   "source": [
    "services = ['OnlineSecurity', 'OnlineBackup', 'TechSupport', 'StreamingTV', 'StreamingMovies']\n",
    "serv_no = [31.33, 29.17, 31.19, 24.33, 24.38]\n",
    "serv_yes = [14.61, 21.53, 15.17, 30.07, 29.94]\n",
    "\n",
    "order = np.argsort(-np.array(serv_no))  # ordena do maior para o menor\n",
    "services_ord = [services[i] for i in order]\n",
    "serv_no_ord = [serv_no[i] for i in order]\n",
    "serv_yes_ord = [serv_yes[i] for i in order]\n",
    "\n",
    "x = np.arange(len(services))\n",
    "width = 0.35\n",
    "\n",
    "fig, ax = plt.subplots(figsize=(10, 5))\n",
    "bars1 = ax.bar(x - width/2, serv_no_ord, width, label='Sem serviço', color='steelblue')\n",
    "bars2 = ax.bar(x + width/2, serv_yes_ord, width, label='Com serviço', color='lightsteelblue')\n",
    "\n",
    "ax.set_facecolor('whitesmoke')\n",
    "ax.figure.set_facecolor('whitesmoke')\n",
    "ax.set_ylabel('Taxa de Churn (%)')\n",
    "ax.set_title('Churn por presença de serviços adicionais de internet', loc='left', fontsize=16)\n",
    "ax.set_xticks(x)\n",
    "ax.set_xticklabels(services_ord, rotation=15)\n",
    "ax.legend(loc='upper center', bbox_to_anchor=(0.5, -0.15), ncol=2, frameon=False)\n",
    "sns.despine(top=True, right=True)\n",
    "\n",
    "# Rótulos nas barras\n",
    "for bars in [bars1, bars2]:\n",
    "    ax.bar_label(bars, fmt='%.2f%%', fontsize=8, padding=3)\n",
    "\n",
    "ax.yaxis.grid(True, color='grey', linestyle='--', linewidth=0.5, alpha=0.3)\n",
    "ax.xaxis.grid(False)\n",
    "plt.tight_layout()\n",
    "plt.savefig('grafico_churn_servicos_internet.png', dpi=300, bbox_inches='tight')\n",
    "plt.show()"
   ]
  },
  {
   "cell_type": "markdown",
   "id": "434f3b2a",
   "metadata": {},
   "source": [
    "#### Relação entre serviços adicionais de internet e churn\n",
    "\n",
    "##### Abaixo estão os dados de cancelamento (`Churn`) cruzados com o uso de serviços adicionais de internet:\n",
    "\n",
    "| Presença do Serviço | OnlineSecurity | OnlineBackup | TechSupport | StreamingTV | StreamingMovies |\n",
    "|---------------------|----------------|--------------|-------------|-------------|-----------------|\n",
    "| **Não**             | 31.33%         | 29.17%       | 31.19%      | 24.33%      | 24.38%          |\n",
    "| **Sim**             | 14.61%         | 21.53%       | 15.17%      | 30.07%      | 29.94%          |\n",
    "\n",
    "#### Observações:\n",
    "\n",
    "##### - Em **todos os casos**, os clientes que **não utilizam** esses serviços estão **muito mais presentes entre os que cancelam**.\n",
    "\n",
    "##### Porém a tabela mostra que a presença de alguns serviços está fortemente associada à **redução da taxa de churn**, enquanto outros parecem não ter efeito relevante.\n",
    "\n",
    "##### **Principais destaques:**\n",
    "\n",
    "##### - **OnlineSecurity** e **TechSupport** são os serviços com maior impacto positivo — as taxas de churn **mais de 50% menores** dentre clientes que os utilizam.\n",
    "##### - **OnlineBackup** também reduz o churn, porém de forma mais modesta.\n",
    "##### - Por outro lado, a presença de **StreamingTV** e **StreamingMovies** **não reduz a taxa de churn** — na verdade, a taxa entre quem usa esses serviços é ligeiramente **maior** do que entre os que não utilizam.\n",
    "\n",
    "##### **Conclusão:** serviços que entregam **valor direto e perceptível em segurança e suporte** parecem contribuir para a retenção do cliente, enquanto serviços de entretenimento **não funcionam como diferencial competitivo** neste caso.\n",
    "\n",
    "##### **Insight estratégico:** Investir em campanhas que incentivem a adesão a serviços como **OnlineSecurity** e **TechSupport**, especialmente para clientes com contratos curtos e mensalidades altas, pode ser uma ação de impacto direto na **redução do churn**."
   ]
  },
  {
   "cell_type": "markdown",
   "id": "133eec59",
   "metadata": {},
   "source": [
    "#### Relação entre Linha Telefônica, Idade e Churn"
   ]
  },
  {
   "cell_type": "code",
   "execution_count": 44,
   "id": "ad08938d",
   "metadata": {},
   "outputs": [
    {
     "data": {
      "text/html": [
       "<div>\n",
       "<style scoped>\n",
       "    .dataframe tbody tr th:only-of-type {\n",
       "        vertical-align: middle;\n",
       "    }\n",
       "\n",
       "    .dataframe tbody tr th {\n",
       "        vertical-align: top;\n",
       "    }\n",
       "\n",
       "    .dataframe thead th {\n",
       "        text-align: right;\n",
       "    }\n",
       "</style>\n",
       "<table border=\"1\" class=\"dataframe\">\n",
       "  <thead>\n",
       "    <tr style=\"text-align: right;\">\n",
       "      <th>Churn</th>\n",
       "      <th>No</th>\n",
       "      <th>Yes</th>\n",
       "    </tr>\n",
       "    <tr>\n",
       "      <th>phone_PhoneService</th>\n",
       "      <th></th>\n",
       "      <th></th>\n",
       "    </tr>\n",
       "  </thead>\n",
       "  <tbody>\n",
       "    <tr>\n",
       "      <th>Yes</th>\n",
       "      <td>4662</td>\n",
       "      <td>1699</td>\n",
       "    </tr>\n",
       "    <tr>\n",
       "      <th>No</th>\n",
       "      <td>512</td>\n",
       "      <td>170</td>\n",
       "    </tr>\n",
       "  </tbody>\n",
       "</table>\n",
       "</div>"
      ],
      "text/plain": [
       "Churn                 No   Yes\n",
       "phone_PhoneService            \n",
       "Yes                 4662  1699\n",
       "No                   512   170"
      ]
     },
     "execution_count": 44,
     "metadata": {},
     "output_type": "execute_result"
    }
   ],
   "source": [
    "phone = (pd.crosstab(df_churn['phone_PhoneService'], df_churn['Churn']).sort_values(by='Yes', ascending=False)).round(2)\n",
    "\n",
    "phone"
   ]
  },
  {
   "cell_type": "code",
   "execution_count": 45,
   "id": "24ca7c34",
   "metadata": {},
   "outputs": [
    {
     "name": "stdout",
     "output_type": "stream",
     "text": [
      "Percentual de seniors com linha telefonica: 90.89%\n"
     ]
    }
   ],
   "source": [
    "seniors = df[df['customer_SeniorCitizen'] == 1]\n",
    "\n",
    "phone_percent = (seniors['phone_PhoneService'].value_counts(normalize=True).get('Yes', 0)) * 100\n",
    "print(f\"Percentual de seniors com linha telefonica: {phone_percent:.2f}%\")"
   ]
  },
  {
   "cell_type": "code",
   "execution_count": 46,
   "id": "38276b58",
   "metadata": {},
   "outputs": [
    {
     "name": "stdout",
     "output_type": "stream",
     "text": [
      "Percentual de seniors que cancelaram seus planos: 41.68%\n"
     ]
    }
   ],
   "source": [
    "seniors = df[df['customer_SeniorCitizen'] == 1]\n",
    "\n",
    "phone_percent = (seniors['Churn'].value_counts(normalize=True).get('Yes', 0)) * 100\n",
    "print(f\"Percentual de seniors que cancelaram seus planos: {phone_percent:.2f}%\")"
   ]
  },
  {
   "cell_type": "markdown",
   "id": "16165563",
   "metadata": {},
   "source": [
    "##### A grande maioria dos clientes possui linha telefônica:\n",
    "\n",
    "| Possui linha telefônica | Churn: Não | Churn: Sim |\n",
    "|-------------------------|------------|------------|\n",
    "| Sim                     | 4.662      | 1.699      |\n",
    "| Não                     | 512        | 170        |\n",
    "\n",
    "##### **A posse de linha telefônica é amplamente difundida**, o que limita seu poder explicativo direto sobre o churn.\n",
    "\n",
    "##### Entretanto, cruzando com a informação de **idade (clientes idosos/seniors)**, observa-se que:\n",
    "\n",
    "##### - **90.89%** dos seniors possuem linha telefônica.\n",
    "##### - **41.68%** dos seniors cancelaram seus planos (**churn elevado**).\n",
    "\n",
    "##### Isso sugere que, **embora a posse da linha telefônica seja alta entre os seniors**, **ela não impede o cancelamento**. Outros fatores como **tempo de permanência** e **valores cobrados mensalmente** continuam sendo mais determinantes.\n"
   ]
  },
  {
   "cell_type": "markdown",
   "id": "ab75c2b4",
   "metadata": {},
   "source": [
    "### Conclusão da Análise\n",
    "\n",
    "##### A análise exploratória revelou um cenário importante sobre a evasão de clientes na empresa Telecom X. A taxa de churn identificada na base é de **26,54%**, o que indica que mais de 1 em cada 4 clientes rescindem seu contrato.\n",
    "\n",
    "##### A permanência média entre os clientes que cancelam é de **aproximadamente 18 meses**, com **mediana de apenas 10 meses**, evidenciando uma **concentração de cancelamentos nos primeiros meses de contrato**. Essa distribuição assimétrica sugere que **o risco de churn é mais elevado no início da jornada do cliente**, o que reforça a importância de ações de engajamento precoce.\n",
    "\n",
    "##### Além disso, identificou-se que os clientes que cancelam pagam **valores mensais mais altos** em média ($ 74,44), e que **92% dos cancelamentos ocorrem entre clientes com contratos mensais** — o tipo de contrato com menor fidelização. Essa tendência se reforça ao observar que **métodos de pagamento manuais** (como `Electronic check` e `Mailed check`) também estão mais associados ao churn.\n",
    "\n",
    "##### Outro ponto de atenção envolve os clientes com planos de **fibra óptica**, que concentram grande parte dos cancelamentos, especialmente quando associados a **contratos mensais e mensalidades elevadas**. Isso aponta para uma possível **inadequação entre o valor percebido e o valor cobrado** nesses planos.\n",
    "\n",
    "##### A análise dos serviços adicionais trouxe insights valiosos: clientes com **serviços de segurança e suporte técnico (OnlineSecurity e TechSupport)** apresentam taxas de churn **mais de 50% menores**, enquanto a presença de serviços de entretenimento como **StreamingTV** e **StreamingMovies** **não contribui para a retenção**. Esses dados sugerem que **benefícios funcionais e de suporte** são mais relevantes para fidelizar o cliente do que ofertas de entretenimento.\n",
    "\n",
    "---\n",
    "\n",
    "#### 📌 Recomendações:\n",
    "\n",
    "##### - **Focar nos primeiros meses** da jornada do cliente com ações de engajamento e acompanhamento.\n",
    "##### - **Incentivar contratos mais longos e formas de pagamento automáticas**, oferecendo vantagens claras.\n",
    "##### - **Reavaliar a proposta de valor dos planos com fibra óptica e mensalidades elevadas**, especialmente para o público com maior taxa de cancelamento.\n",
    "##### - **Incluir ou reforçar serviços de segurança e suporte técnico** nos pacotes oferecidos — eles mostram correlação com maior retenção.\n",
    "\n",
    "---\n",
    "\n",
    "##### Esta análise fornece uma base sólida para ações de marketing, retenção e revisão estratégica dos planos e serviços da empresa. O próximo passo pode envolver **modelagem preditiva de churn**, utilizando essas variáveis para antecipar o comportamento do cliente e atuar de forma proativa.\n"
   ]
  }
 ],
 "metadata": {
  "kernelspec": {
   "display_name": "base",
   "language": "python",
   "name": "python3"
  },
  "language_info": {
   "codemirror_mode": {
    "name": "ipython",
    "version": 3
   },
   "file_extension": ".py",
   "mimetype": "text/x-python",
   "name": "python",
   "nbconvert_exporter": "python",
   "pygments_lexer": "ipython3",
   "version": "3.12.7"
  }
 },
 "nbformat": 4,
 "nbformat_minor": 5
}
